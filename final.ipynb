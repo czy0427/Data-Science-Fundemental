{
 "cells": [
  {
   "cell_type": "markdown",
   "metadata": {},
   "source": [
    "# CSM148 Final Project"
   ]
  },
  {
   "cell_type": "code",
   "execution_count": 49,
   "metadata": {},
   "outputs": [],
   "source": [
    "import numpy as np \n",
    "import pandas as pd \n",
    "import matplotlib.pyplot as plt \n",
    "import os\n",
    "import seaborn as sns \n",
    "from sklearn.model_selection import train_test_split, cross_val_score, GridSearchCV\n",
    "from sklearn import metrics\n",
    "from sklearn.svm import SVC  \n",
    "from sklearn.linear_model import LogisticRegression\n",
    "from sklearn.neighbors import KNeighborsClassifier\n",
    "from sklearn.tree import DecisionTreeClassifier\n",
    "from sklearn.cluster import KMeans\n",
    "from sklearn.metrics import confusion_matrix\n",
    "import sklearn.metrics.cluster as smc\n",
    "from sklearn.model_selection import KFold\n",
    "\n",
    "\n",
    "from matplotlib import pyplot\n",
    "import itertools\n",
    "\n",
    "%matplotlib inline\n",
    "\n",
    "import random \n",
    "  \n",
    "random.seed(42) "
   ]
  },
  {
   "cell_type": "code",
   "execution_count": 2,
   "metadata": {},
   "outputs": [],
   "source": [
    "# Helper function allowing you to export a graph\n",
    "def save_fig(fig_id, tight_layout=True, fig_extension=\"png\", resolution=300):\n",
    "    path = os.path.join(fig_id + \".\" + fig_extension)\n",
    "    print(\"Saving figure\", fig_id)\n",
    "    if tight_layout:\n",
    "        plt.tight_layout()\n",
    "    plt.savefig(path, format=fig_extension, dpi=resolution)"
   ]
  },
  {
   "cell_type": "code",
   "execution_count": 3,
   "metadata": {},
   "outputs": [],
   "source": [
    "# Helper function that allows you to draw nicely formatted confusion matrices\n",
    "def draw_confusion_matrix(y, yhat, classes):\n",
    "    '''\n",
    "        Draws a confusion matrix for the given target and predictions\n",
    "        Adapted from scikit-learn and discussion example.\n",
    "    '''\n",
    "    plt.cla()\n",
    "    plt.clf()\n",
    "    matrix = confusion_matrix(y, yhat)\n",
    "    plt.imshow(matrix, interpolation='nearest', cmap=plt.cm.Blues)\n",
    "    plt.title(\"Confusion Matrix\")\n",
    "    plt.colorbar()\n",
    "    num_classes = len(classes)\n",
    "    plt.xticks(np.arange(num_classes), classes, rotation=90)\n",
    "    plt.yticks(np.arange(num_classes), classes)\n",
    "    \n",
    "    fmt = 'd'\n",
    "    thresh = matrix.max() / 2.\n",
    "    for i, j in itertools.product(range(matrix.shape[0]), range(matrix.shape[1])):\n",
    "        plt.text(j, i, format(matrix[i, j], fmt),\n",
    "                 horizontalalignment=\"center\",\n",
    "                 color=\"white\" if matrix[i, j] > thresh else \"black\")\n",
    "\n",
    "    plt.ylabel('True label')\n",
    "    plt.xlabel('Predicted label')\n",
    "    plt.tight_layout()\n",
    "    plt.show()"
   ]
  },
  {
   "cell_type": "markdown",
   "metadata": {},
   "source": [
    "## Part 1. Basic Statistics"
   ]
  },
  {
   "cell_type": "code",
   "execution_count": 50,
   "metadata": {},
   "outputs": [],
   "source": [
    "hd=pd.read_csv(\"healthcare-dataset-stroke-data.csv\")"
   ]
  },
  {
   "cell_type": "code",
   "execution_count": 20,
   "metadata": {},
   "outputs": [
    {
     "data": {
      "text/html": [
       "<div>\n",
       "<style scoped>\n",
       "    .dataframe tbody tr th:only-of-type {\n",
       "        vertical-align: middle;\n",
       "    }\n",
       "\n",
       "    .dataframe tbody tr th {\n",
       "        vertical-align: top;\n",
       "    }\n",
       "\n",
       "    .dataframe thead th {\n",
       "        text-align: right;\n",
       "    }\n",
       "</style>\n",
       "<table border=\"1\" class=\"dataframe\">\n",
       "  <thead>\n",
       "    <tr style=\"text-align: right;\">\n",
       "      <th></th>\n",
       "      <th>id</th>\n",
       "      <th>gender</th>\n",
       "      <th>age</th>\n",
       "      <th>hypertension</th>\n",
       "      <th>heart_disease</th>\n",
       "      <th>ever_married</th>\n",
       "      <th>work_type</th>\n",
       "      <th>Residence_type</th>\n",
       "      <th>avg_glucose_level</th>\n",
       "      <th>bmi</th>\n",
       "      <th>smoking_status</th>\n",
       "      <th>stroke</th>\n",
       "    </tr>\n",
       "  </thead>\n",
       "  <tbody>\n",
       "    <tr>\n",
       "      <th>0</th>\n",
       "      <td>9046</td>\n",
       "      <td>Male</td>\n",
       "      <td>67.0</td>\n",
       "      <td>0</td>\n",
       "      <td>1</td>\n",
       "      <td>Yes</td>\n",
       "      <td>Private</td>\n",
       "      <td>Urban</td>\n",
       "      <td>228.69</td>\n",
       "      <td>36.6</td>\n",
       "      <td>formerly smoked</td>\n",
       "      <td>1</td>\n",
       "    </tr>\n",
       "    <tr>\n",
       "      <th>1</th>\n",
       "      <td>51676</td>\n",
       "      <td>Female</td>\n",
       "      <td>61.0</td>\n",
       "      <td>0</td>\n",
       "      <td>0</td>\n",
       "      <td>Yes</td>\n",
       "      <td>Self-employed</td>\n",
       "      <td>Rural</td>\n",
       "      <td>202.21</td>\n",
       "      <td>NaN</td>\n",
       "      <td>never smoked</td>\n",
       "      <td>1</td>\n",
       "    </tr>\n",
       "    <tr>\n",
       "      <th>2</th>\n",
       "      <td>31112</td>\n",
       "      <td>Male</td>\n",
       "      <td>80.0</td>\n",
       "      <td>0</td>\n",
       "      <td>1</td>\n",
       "      <td>Yes</td>\n",
       "      <td>Private</td>\n",
       "      <td>Rural</td>\n",
       "      <td>105.92</td>\n",
       "      <td>32.5</td>\n",
       "      <td>never smoked</td>\n",
       "      <td>1</td>\n",
       "    </tr>\n",
       "    <tr>\n",
       "      <th>3</th>\n",
       "      <td>60182</td>\n",
       "      <td>Female</td>\n",
       "      <td>49.0</td>\n",
       "      <td>0</td>\n",
       "      <td>0</td>\n",
       "      <td>Yes</td>\n",
       "      <td>Private</td>\n",
       "      <td>Urban</td>\n",
       "      <td>171.23</td>\n",
       "      <td>34.4</td>\n",
       "      <td>smokes</td>\n",
       "      <td>1</td>\n",
       "    </tr>\n",
       "    <tr>\n",
       "      <th>4</th>\n",
       "      <td>1665</td>\n",
       "      <td>Female</td>\n",
       "      <td>79.0</td>\n",
       "      <td>1</td>\n",
       "      <td>0</td>\n",
       "      <td>Yes</td>\n",
       "      <td>Self-employed</td>\n",
       "      <td>Rural</td>\n",
       "      <td>174.12</td>\n",
       "      <td>24.0</td>\n",
       "      <td>never smoked</td>\n",
       "      <td>1</td>\n",
       "    </tr>\n",
       "  </tbody>\n",
       "</table>\n",
       "</div>"
      ],
      "text/plain": [
       "      id  gender   age  hypertension  heart_disease ever_married  \\\n",
       "0   9046    Male  67.0             0              1          Yes   \n",
       "1  51676  Female  61.0             0              0          Yes   \n",
       "2  31112    Male  80.0             0              1          Yes   \n",
       "3  60182  Female  49.0             0              0          Yes   \n",
       "4   1665  Female  79.0             1              0          Yes   \n",
       "\n",
       "       work_type Residence_type  avg_glucose_level   bmi   smoking_status  \\\n",
       "0        Private          Urban             228.69  36.6  formerly smoked   \n",
       "1  Self-employed          Rural             202.21   NaN     never smoked   \n",
       "2        Private          Rural             105.92  32.5     never smoked   \n",
       "3        Private          Urban             171.23  34.4           smokes   \n",
       "4  Self-employed          Rural             174.12  24.0     never smoked   \n",
       "\n",
       "   stroke  \n",
       "0       1  \n",
       "1       1  \n",
       "2       1  \n",
       "3       1  \n",
       "4       1  "
      ]
     },
     "execution_count": 20,
     "metadata": {},
     "output_type": "execute_result"
    }
   ],
   "source": [
    "hd.head()"
   ]
  },
  {
   "cell_type": "code",
   "execution_count": 6,
   "metadata": {},
   "outputs": [
    {
     "data": {
      "text/html": [
       "<div>\n",
       "<style scoped>\n",
       "    .dataframe tbody tr th:only-of-type {\n",
       "        vertical-align: middle;\n",
       "    }\n",
       "\n",
       "    .dataframe tbody tr th {\n",
       "        vertical-align: top;\n",
       "    }\n",
       "\n",
       "    .dataframe thead th {\n",
       "        text-align: right;\n",
       "    }\n",
       "</style>\n",
       "<table border=\"1\" class=\"dataframe\">\n",
       "  <thead>\n",
       "    <tr style=\"text-align: right;\">\n",
       "      <th></th>\n",
       "      <th>id</th>\n",
       "      <th>age</th>\n",
       "      <th>hypertension</th>\n",
       "      <th>heart_disease</th>\n",
       "      <th>avg_glucose_level</th>\n",
       "      <th>bmi</th>\n",
       "      <th>stroke</th>\n",
       "    </tr>\n",
       "  </thead>\n",
       "  <tbody>\n",
       "    <tr>\n",
       "      <th>count</th>\n",
       "      <td>5110.000000</td>\n",
       "      <td>5110.000000</td>\n",
       "      <td>5110.000000</td>\n",
       "      <td>5110.000000</td>\n",
       "      <td>5110.000000</td>\n",
       "      <td>4909.000000</td>\n",
       "      <td>5110.000000</td>\n",
       "    </tr>\n",
       "    <tr>\n",
       "      <th>mean</th>\n",
       "      <td>36517.829354</td>\n",
       "      <td>43.226614</td>\n",
       "      <td>0.097456</td>\n",
       "      <td>0.054012</td>\n",
       "      <td>106.147677</td>\n",
       "      <td>28.893237</td>\n",
       "      <td>0.048728</td>\n",
       "    </tr>\n",
       "    <tr>\n",
       "      <th>std</th>\n",
       "      <td>21161.721625</td>\n",
       "      <td>22.612647</td>\n",
       "      <td>0.296607</td>\n",
       "      <td>0.226063</td>\n",
       "      <td>45.283560</td>\n",
       "      <td>7.854067</td>\n",
       "      <td>0.215320</td>\n",
       "    </tr>\n",
       "    <tr>\n",
       "      <th>min</th>\n",
       "      <td>67.000000</td>\n",
       "      <td>0.080000</td>\n",
       "      <td>0.000000</td>\n",
       "      <td>0.000000</td>\n",
       "      <td>55.120000</td>\n",
       "      <td>10.300000</td>\n",
       "      <td>0.000000</td>\n",
       "    </tr>\n",
       "    <tr>\n",
       "      <th>25%</th>\n",
       "      <td>17741.250000</td>\n",
       "      <td>25.000000</td>\n",
       "      <td>0.000000</td>\n",
       "      <td>0.000000</td>\n",
       "      <td>77.245000</td>\n",
       "      <td>23.500000</td>\n",
       "      <td>0.000000</td>\n",
       "    </tr>\n",
       "    <tr>\n",
       "      <th>50%</th>\n",
       "      <td>36932.000000</td>\n",
       "      <td>45.000000</td>\n",
       "      <td>0.000000</td>\n",
       "      <td>0.000000</td>\n",
       "      <td>91.885000</td>\n",
       "      <td>28.100000</td>\n",
       "      <td>0.000000</td>\n",
       "    </tr>\n",
       "    <tr>\n",
       "      <th>75%</th>\n",
       "      <td>54682.000000</td>\n",
       "      <td>61.000000</td>\n",
       "      <td>0.000000</td>\n",
       "      <td>0.000000</td>\n",
       "      <td>114.090000</td>\n",
       "      <td>33.100000</td>\n",
       "      <td>0.000000</td>\n",
       "    </tr>\n",
       "    <tr>\n",
       "      <th>max</th>\n",
       "      <td>72940.000000</td>\n",
       "      <td>82.000000</td>\n",
       "      <td>1.000000</td>\n",
       "      <td>1.000000</td>\n",
       "      <td>271.740000</td>\n",
       "      <td>97.600000</td>\n",
       "      <td>1.000000</td>\n",
       "    </tr>\n",
       "  </tbody>\n",
       "</table>\n",
       "</div>"
      ],
      "text/plain": [
       "                 id          age  hypertension  heart_disease  \\\n",
       "count   5110.000000  5110.000000   5110.000000    5110.000000   \n",
       "mean   36517.829354    43.226614      0.097456       0.054012   \n",
       "std    21161.721625    22.612647      0.296607       0.226063   \n",
       "min       67.000000     0.080000      0.000000       0.000000   \n",
       "25%    17741.250000    25.000000      0.000000       0.000000   \n",
       "50%    36932.000000    45.000000      0.000000       0.000000   \n",
       "75%    54682.000000    61.000000      0.000000       0.000000   \n",
       "max    72940.000000    82.000000      1.000000       1.000000   \n",
       "\n",
       "       avg_glucose_level          bmi       stroke  \n",
       "count        5110.000000  4909.000000  5110.000000  \n",
       "mean          106.147677    28.893237     0.048728  \n",
       "std            45.283560     7.854067     0.215320  \n",
       "min            55.120000    10.300000     0.000000  \n",
       "25%            77.245000    23.500000     0.000000  \n",
       "50%            91.885000    28.100000     0.000000  \n",
       "75%           114.090000    33.100000     0.000000  \n",
       "max           271.740000    97.600000     1.000000  "
      ]
     },
     "execution_count": 6,
     "metadata": {},
     "output_type": "execute_result"
    }
   ],
   "source": [
    "hd.describe()"
   ]
  },
  {
   "cell_type": "code",
   "execution_count": 7,
   "metadata": {},
   "outputs": [
    {
     "name": "stdout",
     "output_type": "stream",
     "text": [
      "<class 'pandas.core.frame.DataFrame'>\n",
      "RangeIndex: 5110 entries, 0 to 5109\n",
      "Data columns (total 12 columns):\n",
      " #   Column             Non-Null Count  Dtype  \n",
      "---  ------             --------------  -----  \n",
      " 0   id                 5110 non-null   int64  \n",
      " 1   gender             5110 non-null   object \n",
      " 2   age                5110 non-null   float64\n",
      " 3   hypertension       5110 non-null   int64  \n",
      " 4   heart_disease      5110 non-null   int64  \n",
      " 5   ever_married       5110 non-null   object \n",
      " 6   work_type          5110 non-null   object \n",
      " 7   Residence_type     5110 non-null   object \n",
      " 8   avg_glucose_level  5110 non-null   float64\n",
      " 9   bmi                4909 non-null   float64\n",
      " 10  smoking_status     5110 non-null   object \n",
      " 11  stroke             5110 non-null   int64  \n",
      "dtypes: float64(3), int64(4), object(5)\n",
      "memory usage: 479.2+ KB\n"
     ]
    }
   ],
   "source": [
    "hd.info()"
   ]
  },
  {
   "cell_type": "markdown",
   "metadata": {},
   "source": [
    "### null values"
   ]
  },
  {
   "cell_type": "code",
   "execution_count": 8,
   "metadata": {},
   "outputs": [
    {
     "data": {
      "text/html": [
       "<div>\n",
       "<style scoped>\n",
       "    .dataframe tbody tr th:only-of-type {\n",
       "        vertical-align: middle;\n",
       "    }\n",
       "\n",
       "    .dataframe tbody tr th {\n",
       "        vertical-align: top;\n",
       "    }\n",
       "\n",
       "    .dataframe thead th {\n",
       "        text-align: right;\n",
       "    }\n",
       "</style>\n",
       "<table border=\"1\" class=\"dataframe\">\n",
       "  <thead>\n",
       "    <tr style=\"text-align: right;\">\n",
       "      <th></th>\n",
       "      <th>id</th>\n",
       "      <th>gender</th>\n",
       "      <th>age</th>\n",
       "      <th>hypertension</th>\n",
       "      <th>heart_disease</th>\n",
       "      <th>ever_married</th>\n",
       "      <th>work_type</th>\n",
       "      <th>Residence_type</th>\n",
       "      <th>avg_glucose_level</th>\n",
       "      <th>bmi</th>\n",
       "      <th>smoking_status</th>\n",
       "      <th>stroke</th>\n",
       "    </tr>\n",
       "  </thead>\n",
       "  <tbody>\n",
       "    <tr>\n",
       "      <th>1</th>\n",
       "      <td>51676</td>\n",
       "      <td>Female</td>\n",
       "      <td>61.0</td>\n",
       "      <td>0</td>\n",
       "      <td>0</td>\n",
       "      <td>Yes</td>\n",
       "      <td>Self-employed</td>\n",
       "      <td>Rural</td>\n",
       "      <td>202.21</td>\n",
       "      <td>NaN</td>\n",
       "      <td>never smoked</td>\n",
       "      <td>1</td>\n",
       "    </tr>\n",
       "    <tr>\n",
       "      <th>8</th>\n",
       "      <td>27419</td>\n",
       "      <td>Female</td>\n",
       "      <td>59.0</td>\n",
       "      <td>0</td>\n",
       "      <td>0</td>\n",
       "      <td>Yes</td>\n",
       "      <td>Private</td>\n",
       "      <td>Rural</td>\n",
       "      <td>76.15</td>\n",
       "      <td>NaN</td>\n",
       "      <td>Unknown</td>\n",
       "      <td>1</td>\n",
       "    </tr>\n",
       "    <tr>\n",
       "      <th>13</th>\n",
       "      <td>8213</td>\n",
       "      <td>Male</td>\n",
       "      <td>78.0</td>\n",
       "      <td>0</td>\n",
       "      <td>1</td>\n",
       "      <td>Yes</td>\n",
       "      <td>Private</td>\n",
       "      <td>Urban</td>\n",
       "      <td>219.84</td>\n",
       "      <td>NaN</td>\n",
       "      <td>Unknown</td>\n",
       "      <td>1</td>\n",
       "    </tr>\n",
       "    <tr>\n",
       "      <th>19</th>\n",
       "      <td>25226</td>\n",
       "      <td>Male</td>\n",
       "      <td>57.0</td>\n",
       "      <td>0</td>\n",
       "      <td>1</td>\n",
       "      <td>No</td>\n",
       "      <td>Govt_job</td>\n",
       "      <td>Urban</td>\n",
       "      <td>217.08</td>\n",
       "      <td>NaN</td>\n",
       "      <td>Unknown</td>\n",
       "      <td>1</td>\n",
       "    </tr>\n",
       "    <tr>\n",
       "      <th>27</th>\n",
       "      <td>61843</td>\n",
       "      <td>Male</td>\n",
       "      <td>58.0</td>\n",
       "      <td>0</td>\n",
       "      <td>0</td>\n",
       "      <td>Yes</td>\n",
       "      <td>Private</td>\n",
       "      <td>Rural</td>\n",
       "      <td>189.84</td>\n",
       "      <td>NaN</td>\n",
       "      <td>Unknown</td>\n",
       "      <td>1</td>\n",
       "    </tr>\n",
       "    <tr>\n",
       "      <th>...</th>\n",
       "      <td>...</td>\n",
       "      <td>...</td>\n",
       "      <td>...</td>\n",
       "      <td>...</td>\n",
       "      <td>...</td>\n",
       "      <td>...</td>\n",
       "      <td>...</td>\n",
       "      <td>...</td>\n",
       "      <td>...</td>\n",
       "      <td>...</td>\n",
       "      <td>...</td>\n",
       "      <td>...</td>\n",
       "    </tr>\n",
       "    <tr>\n",
       "      <th>5039</th>\n",
       "      <td>42007</td>\n",
       "      <td>Male</td>\n",
       "      <td>41.0</td>\n",
       "      <td>0</td>\n",
       "      <td>0</td>\n",
       "      <td>No</td>\n",
       "      <td>Private</td>\n",
       "      <td>Rural</td>\n",
       "      <td>70.15</td>\n",
       "      <td>NaN</td>\n",
       "      <td>formerly smoked</td>\n",
       "      <td>0</td>\n",
       "    </tr>\n",
       "    <tr>\n",
       "      <th>5048</th>\n",
       "      <td>28788</td>\n",
       "      <td>Male</td>\n",
       "      <td>40.0</td>\n",
       "      <td>0</td>\n",
       "      <td>0</td>\n",
       "      <td>Yes</td>\n",
       "      <td>Private</td>\n",
       "      <td>Urban</td>\n",
       "      <td>191.15</td>\n",
       "      <td>NaN</td>\n",
       "      <td>smokes</td>\n",
       "      <td>0</td>\n",
       "    </tr>\n",
       "    <tr>\n",
       "      <th>5093</th>\n",
       "      <td>32235</td>\n",
       "      <td>Female</td>\n",
       "      <td>45.0</td>\n",
       "      <td>1</td>\n",
       "      <td>0</td>\n",
       "      <td>Yes</td>\n",
       "      <td>Govt_job</td>\n",
       "      <td>Rural</td>\n",
       "      <td>95.02</td>\n",
       "      <td>NaN</td>\n",
       "      <td>smokes</td>\n",
       "      <td>0</td>\n",
       "    </tr>\n",
       "    <tr>\n",
       "      <th>5099</th>\n",
       "      <td>7293</td>\n",
       "      <td>Male</td>\n",
       "      <td>40.0</td>\n",
       "      <td>0</td>\n",
       "      <td>0</td>\n",
       "      <td>Yes</td>\n",
       "      <td>Private</td>\n",
       "      <td>Rural</td>\n",
       "      <td>83.94</td>\n",
       "      <td>NaN</td>\n",
       "      <td>smokes</td>\n",
       "      <td>0</td>\n",
       "    </tr>\n",
       "    <tr>\n",
       "      <th>5105</th>\n",
       "      <td>18234</td>\n",
       "      <td>Female</td>\n",
       "      <td>80.0</td>\n",
       "      <td>1</td>\n",
       "      <td>0</td>\n",
       "      <td>Yes</td>\n",
       "      <td>Private</td>\n",
       "      <td>Urban</td>\n",
       "      <td>83.75</td>\n",
       "      <td>NaN</td>\n",
       "      <td>never smoked</td>\n",
       "      <td>0</td>\n",
       "    </tr>\n",
       "  </tbody>\n",
       "</table>\n",
       "<p>201 rows × 12 columns</p>\n",
       "</div>"
      ],
      "text/plain": [
       "         id  gender   age  hypertension  heart_disease ever_married  \\\n",
       "1     51676  Female  61.0             0              0          Yes   \n",
       "8     27419  Female  59.0             0              0          Yes   \n",
       "13     8213    Male  78.0             0              1          Yes   \n",
       "19    25226    Male  57.0             0              1           No   \n",
       "27    61843    Male  58.0             0              0          Yes   \n",
       "...     ...     ...   ...           ...            ...          ...   \n",
       "5039  42007    Male  41.0             0              0           No   \n",
       "5048  28788    Male  40.0             0              0          Yes   \n",
       "5093  32235  Female  45.0             1              0          Yes   \n",
       "5099   7293    Male  40.0             0              0          Yes   \n",
       "5105  18234  Female  80.0             1              0          Yes   \n",
       "\n",
       "          work_type Residence_type  avg_glucose_level  bmi   smoking_status  \\\n",
       "1     Self-employed          Rural             202.21  NaN     never smoked   \n",
       "8           Private          Rural              76.15  NaN          Unknown   \n",
       "13          Private          Urban             219.84  NaN          Unknown   \n",
       "19         Govt_job          Urban             217.08  NaN          Unknown   \n",
       "27          Private          Rural             189.84  NaN          Unknown   \n",
       "...             ...            ...                ...  ...              ...   \n",
       "5039        Private          Rural              70.15  NaN  formerly smoked   \n",
       "5048        Private          Urban             191.15  NaN           smokes   \n",
       "5093       Govt_job          Rural              95.02  NaN           smokes   \n",
       "5099        Private          Rural              83.94  NaN           smokes   \n",
       "5105        Private          Urban              83.75  NaN     never smoked   \n",
       "\n",
       "      stroke  \n",
       "1          1  \n",
       "8          1  \n",
       "13         1  \n",
       "19         1  \n",
       "27         1  \n",
       "...      ...  \n",
       "5039       0  \n",
       "5048       0  \n",
       "5093       0  \n",
       "5099       0  \n",
       "5105       0  \n",
       "\n",
       "[201 rows x 12 columns]"
      ]
     },
     "execution_count": 8,
     "metadata": {},
     "output_type": "execute_result"
    }
   ],
   "source": [
    "hd[hd.isnull().any(axis=1)]"
   ]
  },
  {
   "cell_type": "code",
   "execution_count": 9,
   "metadata": {},
   "outputs": [
    {
     "data": {
      "text/plain": [
       "array(['formerly smoked', 'never smoked', 'smokes', 'Unknown'],\n",
       "      dtype=object)"
      ]
     },
     "execution_count": 9,
     "metadata": {},
     "output_type": "execute_result"
    }
   ],
   "source": [
    "hd['smoking_status'].unique()"
   ]
  },
  {
   "cell_type": "code",
   "execution_count": 10,
   "metadata": {},
   "outputs": [
    {
     "data": {
      "text/plain": [
       "1544"
      ]
     },
     "execution_count": 10,
     "metadata": {},
     "output_type": "execute_result"
    }
   ],
   "source": [
    "len(hd.loc[hd['smoking_status']==\"Unknown\"])"
   ]
  },
  {
   "cell_type": "code",
   "execution_count": 11,
   "metadata": {},
   "outputs": [
    {
     "data": {
      "text/plain": [
       "61"
      ]
     },
     "execution_count": 11,
     "metadata": {},
     "output_type": "execute_result"
    }
   ],
   "source": [
    "len(hd.loc[(hd['smoking_status']==\"Unknown\") & (hd['bmi'].isnull())])"
   ]
  },
  {
   "cell_type": "code",
   "execution_count": 12,
   "metadata": {},
   "outputs": [
    {
     "name": "stdout",
     "output_type": "stream",
     "text": [
      "['Yes' 'No']\n",
      "['Private' 'Self-employed' 'Govt_job' 'children' 'Never_worked']\n",
      "['Urban' 'Rural']\n"
     ]
    }
   ],
   "source": [
    "print(hd['ever_married'].unique())\n",
    "print(hd['work_type'].unique())\n",
    "print(hd['Residence_type'].unique())"
   ]
  },
  {
   "cell_type": "markdown",
   "metadata": {},
   "source": [
    "### histogram"
   ]
  },
  {
   "cell_type": "code",
   "execution_count": 9,
   "metadata": {},
   "outputs": [
    {
     "data": {
      "image/png": "[encoded data removed]",
      "text/plain": [
       "<Figure size 1440x1080 with 9 Axes>"
      ]
     },
     "metadata": {
      "needs_background": "light"
     },
     "output_type": "display_data"
    }
   ],
   "source": [
    "hd.hist(bins=50, figsize=(20,15))\n",
    "plt.show()"
   ]
  },
  {
   "cell_type": "code",
   "execution_count": 13,
   "metadata": {},
   "outputs": [
    {
     "data": {
      "text/plain": [
       "0    4861\n",
       "1     249\n",
       "Name: stroke, dtype: int64"
      ]
     },
     "execution_count": 13,
     "metadata": {},
     "output_type": "execute_result"
    },
    {
     "data": {
      "image/png": "[encoded data removed]",
      "text/plain": [
       "<Figure size 360x360 with 1 Axes>"
      ]
     },
     "metadata": {
      "needs_background": "light"
     },
     "output_type": "display_data"
    }
   ],
   "source": [
    "hd['stroke'].hist(bins=3, figsize=(5,5))\n",
    "hd['stroke'].value_counts()"
   ]
  },
  {
   "cell_type": "markdown",
   "metadata": {},
   "source": [
    "### Correlation"
   ]
  },
  {
   "cell_type": "code",
   "execution_count": 51,
   "metadata": {},
   "outputs": [
    {
     "data": {
      "image/png": "[encoded data removed]",
      "text/plain": [
       "<Figure size 504x360 with 2 Axes>"
      ]
     },
     "metadata": {
      "needs_background": "light"
     },
     "output_type": "display_data"
    }
   ],
   "source": [
    "plt.figure(figsize=(7,5))\n",
    "sns.heatmap(hd.corr(),annot=True,cmap='hsv',fmt='.3f',linewidths=2)\n",
    "plt.show()"
   ]
  },
  {
   "cell_type": "markdown",
   "metadata": {},
   "source": [
    "## Part 2. Prepare the Data"
   ]
  },
  {
   "cell_type": "code",
   "execution_count": 52,
   "metadata": {},
   "outputs": [],
   "source": [
    "hd=hd.drop(columns=['id'])"
   ]
  },
  {
   "cell_type": "markdown",
   "metadata": {},
   "source": [
    "### Imputation"
   ]
  },
  {
   "cell_type": "code",
   "execution_count": 57,
   "metadata": {},
   "outputs": [],
   "source": [
    "#store the non-null values here just in case\n",
    "data0=hd.dropna()\n",
    "data0_0=data0[data0['smoking_status']!=\"Unknown\"]"
   ]
  },
  {
   "cell_type": "code",
   "execution_count": 64,
   "metadata": {},
   "outputs": [
    {
     "data": {
      "text/html": [
       "<div>\n",
       "<style scoped>\n",
       "    .dataframe tbody tr th:only-of-type {\n",
       "        vertical-align: middle;\n",
       "    }\n",
       "\n",
       "    .dataframe tbody tr th {\n",
       "        vertical-align: top;\n",
       "    }\n",
       "\n",
       "    .dataframe thead th {\n",
       "        text-align: right;\n",
       "    }\n",
       "</style>\n",
       "<table border=\"1\" class=\"dataframe\">\n",
       "  <thead>\n",
       "    <tr style=\"text-align: right;\">\n",
       "      <th></th>\n",
       "      <th>gender</th>\n",
       "      <th>age</th>\n",
       "      <th>hypertension</th>\n",
       "      <th>heart_disease</th>\n",
       "      <th>ever_married</th>\n",
       "      <th>work_type</th>\n",
       "      <th>Residence_type</th>\n",
       "      <th>avg_glucose_level</th>\n",
       "      <th>bmi</th>\n",
       "      <th>smoking_status</th>\n",
       "      <th>stroke</th>\n",
       "    </tr>\n",
       "  </thead>\n",
       "  <tbody>\n",
       "    <tr>\n",
       "      <th>0</th>\n",
       "      <td>Male</td>\n",
       "      <td>67.0</td>\n",
       "      <td>0</td>\n",
       "      <td>1</td>\n",
       "      <td>Yes</td>\n",
       "      <td>Private</td>\n",
       "      <td>Urban</td>\n",
       "      <td>228.69</td>\n",
       "      <td>36.600000</td>\n",
       "      <td>formerly smoked</td>\n",
       "      <td>1</td>\n",
       "    </tr>\n",
       "    <tr>\n",
       "      <th>1</th>\n",
       "      <td>Female</td>\n",
       "      <td>61.0</td>\n",
       "      <td>0</td>\n",
       "      <td>0</td>\n",
       "      <td>Yes</td>\n",
       "      <td>Self-employed</td>\n",
       "      <td>Rural</td>\n",
       "      <td>202.21</td>\n",
       "      <td>28.893237</td>\n",
       "      <td>never smoked</td>\n",
       "      <td>1</td>\n",
       "    </tr>\n",
       "    <tr>\n",
       "      <th>2</th>\n",
       "      <td>Male</td>\n",
       "      <td>80.0</td>\n",
       "      <td>0</td>\n",
       "      <td>1</td>\n",
       "      <td>Yes</td>\n",
       "      <td>Private</td>\n",
       "      <td>Rural</td>\n",
       "      <td>105.92</td>\n",
       "      <td>32.500000</td>\n",
       "      <td>never smoked</td>\n",
       "      <td>1</td>\n",
       "    </tr>\n",
       "    <tr>\n",
       "      <th>3</th>\n",
       "      <td>Female</td>\n",
       "      <td>49.0</td>\n",
       "      <td>0</td>\n",
       "      <td>0</td>\n",
       "      <td>Yes</td>\n",
       "      <td>Private</td>\n",
       "      <td>Urban</td>\n",
       "      <td>171.23</td>\n",
       "      <td>34.400000</td>\n",
       "      <td>smokes</td>\n",
       "      <td>1</td>\n",
       "    </tr>\n",
       "    <tr>\n",
       "      <th>4</th>\n",
       "      <td>Female</td>\n",
       "      <td>79.0</td>\n",
       "      <td>1</td>\n",
       "      <td>0</td>\n",
       "      <td>Yes</td>\n",
       "      <td>Self-employed</td>\n",
       "      <td>Rural</td>\n",
       "      <td>174.12</td>\n",
       "      <td>24.000000</td>\n",
       "      <td>never smoked</td>\n",
       "      <td>1</td>\n",
       "    </tr>\n",
       "  </tbody>\n",
       "</table>\n",
       "</div>"
      ],
      "text/plain": [
       "   gender   age  hypertension  heart_disease ever_married      work_type  \\\n",
       "0    Male  67.0             0              1          Yes        Private   \n",
       "1  Female  61.0             0              0          Yes  Self-employed   \n",
       "2    Male  80.0             0              1          Yes        Private   \n",
       "3  Female  49.0             0              0          Yes        Private   \n",
       "4  Female  79.0             1              0          Yes  Self-employed   \n",
       "\n",
       "  Residence_type  avg_glucose_level        bmi   smoking_status  stroke  \n",
       "0          Urban             228.69  36.600000  formerly smoked       1  \n",
       "1          Rural             202.21  28.893237     never smoked       1  \n",
       "2          Rural             105.92  32.500000     never smoked       1  \n",
       "3          Urban             171.23  34.400000           smokes       1  \n",
       "4          Rural             174.12  24.000000     never smoked       1  "
      ]
     },
     "execution_count": 64,
     "metadata": {},
     "output_type": "execute_result"
    }
   ],
   "source": [
    "# bmi Null value --> average\n",
    "#hd['bmi'].mean()\n",
    "hd=hd.fillna(hd['bmi'].mean())\n",
    "hd.head()"
   ]
  },
  {
   "cell_type": "markdown",
   "metadata": {},
   "source": [
    "### Augmentation"
   ]
  },
  {
   "cell_type": "code",
   "execution_count": 71,
   "metadata": {},
   "outputs": [
    {
     "data": {
      "text/html": [
       "<div>\n",
       "<style scoped>\n",
       "    .dataframe tbody tr th:only-of-type {\n",
       "        vertical-align: middle;\n",
       "    }\n",
       "\n",
       "    .dataframe tbody tr th {\n",
       "        vertical-align: top;\n",
       "    }\n",
       "\n",
       "    .dataframe thead th {\n",
       "        text-align: right;\n",
       "    }\n",
       "</style>\n",
       "<table border=\"1\" class=\"dataframe\">\n",
       "  <thead>\n",
       "    <tr style=\"text-align: right;\">\n",
       "      <th></th>\n",
       "      <th>gender</th>\n",
       "      <th>age</th>\n",
       "      <th>hypertension</th>\n",
       "      <th>heart_disease</th>\n",
       "      <th>ever_married</th>\n",
       "      <th>work_type</th>\n",
       "      <th>Residence_type</th>\n",
       "      <th>avg_glucose_level</th>\n",
       "      <th>bmi</th>\n",
       "      <th>smoking_status</th>\n",
       "      <th>stroke</th>\n",
       "      <th>fat_bsugar</th>\n",
       "    </tr>\n",
       "  </thead>\n",
       "  <tbody>\n",
       "    <tr>\n",
       "      <th>0</th>\n",
       "      <td>Male</td>\n",
       "      <td>67.0</td>\n",
       "      <td>0</td>\n",
       "      <td>1</td>\n",
       "      <td>Yes</td>\n",
       "      <td>Private</td>\n",
       "      <td>Urban</td>\n",
       "      <td>228.69</td>\n",
       "      <td>36.600000</td>\n",
       "      <td>formerly smoked</td>\n",
       "      <td>1</td>\n",
       "      <td>8370.054000</td>\n",
       "    </tr>\n",
       "    <tr>\n",
       "      <th>1</th>\n",
       "      <td>Female</td>\n",
       "      <td>61.0</td>\n",
       "      <td>0</td>\n",
       "      <td>0</td>\n",
       "      <td>Yes</td>\n",
       "      <td>Self-employed</td>\n",
       "      <td>Rural</td>\n",
       "      <td>202.21</td>\n",
       "      <td>28.893237</td>\n",
       "      <td>never smoked</td>\n",
       "      <td>1</td>\n",
       "      <td>5842.501436</td>\n",
       "    </tr>\n",
       "    <tr>\n",
       "      <th>2</th>\n",
       "      <td>Male</td>\n",
       "      <td>80.0</td>\n",
       "      <td>0</td>\n",
       "      <td>1</td>\n",
       "      <td>Yes</td>\n",
       "      <td>Private</td>\n",
       "      <td>Rural</td>\n",
       "      <td>105.92</td>\n",
       "      <td>32.500000</td>\n",
       "      <td>never smoked</td>\n",
       "      <td>1</td>\n",
       "      <td>3442.400000</td>\n",
       "    </tr>\n",
       "    <tr>\n",
       "      <th>3</th>\n",
       "      <td>Female</td>\n",
       "      <td>49.0</td>\n",
       "      <td>0</td>\n",
       "      <td>0</td>\n",
       "      <td>Yes</td>\n",
       "      <td>Private</td>\n",
       "      <td>Urban</td>\n",
       "      <td>171.23</td>\n",
       "      <td>34.400000</td>\n",
       "      <td>smokes</td>\n",
       "      <td>1</td>\n",
       "      <td>5890.312000</td>\n",
       "    </tr>\n",
       "    <tr>\n",
       "      <th>4</th>\n",
       "      <td>Female</td>\n",
       "      <td>79.0</td>\n",
       "      <td>1</td>\n",
       "      <td>0</td>\n",
       "      <td>Yes</td>\n",
       "      <td>Self-employed</td>\n",
       "      <td>Rural</td>\n",
       "      <td>174.12</td>\n",
       "      <td>24.000000</td>\n",
       "      <td>never smoked</td>\n",
       "      <td>1</td>\n",
       "      <td>4178.880000</td>\n",
       "    </tr>\n",
       "  </tbody>\n",
       "</table>\n",
       "</div>"
      ],
      "text/plain": [
       "   gender   age  hypertension  heart_disease ever_married      work_type  \\\n",
       "0    Male  67.0             0              1          Yes        Private   \n",
       "1  Female  61.0             0              0          Yes  Self-employed   \n",
       "2    Male  80.0             0              1          Yes        Private   \n",
       "3  Female  49.0             0              0          Yes        Private   \n",
       "4  Female  79.0             1              0          Yes  Self-employed   \n",
       "\n",
       "  Residence_type  avg_glucose_level        bmi   smoking_status  stroke  \\\n",
       "0          Urban             228.69  36.600000  formerly smoked       1   \n",
       "1          Rural             202.21  28.893237     never smoked       1   \n",
       "2          Rural             105.92  32.500000     never smoked       1   \n",
       "3          Urban             171.23  34.400000           smokes       1   \n",
       "4          Rural             174.12  24.000000     never smoked       1   \n",
       "\n",
       "    fat_bsugar  \n",
       "0  8370.054000  \n",
       "1  5842.501436  \n",
       "2  3442.400000  \n",
       "3  5890.312000  \n",
       "4  4178.880000  "
      ]
     },
     "execution_count": 71,
     "metadata": {},
     "output_type": "execute_result"
    }
   ],
   "source": [
    "# bmi * glucose\n",
    "hd['fat_bsugar']=hd['bmi']*hd['avg_glucose_level']\n",
    "hd.head()"
   ]
  },
  {
   "cell_type": "markdown",
   "metadata": {},
   "source": [
    "### Pipeline"
   ]
  },
  {
   "cell_type": "code",
   "execution_count": 73,
   "metadata": {},
   "outputs": [],
   "source": [
    "from sklearn import preprocessing\n",
    "le = preprocessing.LabelEncoder()\n",
    "smoke=[]\n",
    "smoke=le.fit_transform(hd['smoking_status'])\n",
    "hd['smoking_status']=smoke"
   ]
  },
  {
   "cell_type": "code",
   "execution_count": 74,
   "metadata": {},
   "outputs": [],
   "source": [
    "from sklearn.compose import ColumnTransformer\n",
    "from sklearn.pipeline import Pipeline\n",
    "from sklearn.preprocessing import StandardScaler, OneHotEncoder\n",
    "\n",
    "one_hot_features=['ever_married','gender','work_type','Residence_type']\n",
    "numerical_features=['age','bmi','avg_glucose_level','hypertension','heart_disease','smoking_status','fat_bsugar']\n",
    "\n",
    "features=numerical_features+one_hot_features\n",
    "\n",
    "hd_processing_pipeline=ColumnTransformer([\n",
    "    ('numerical',StandardScaler(), numerical_features),\n",
    "    ('one_hot',OneHotEncoder(categories='auto'), one_hot_features)\n",
    "])\n",
    "\n",
    "X=hd_processing_pipeline.fit_transform(hd[features])"
   ]
  },
  {
   "cell_type": "code",
   "execution_count": 101,
   "metadata": {},
   "outputs": [
    {
     "data": {
      "text/plain": [
       "0    4861\n",
       "1     249\n",
       "Name: stroke, dtype: int64"
      ]
     },
     "execution_count": 101,
     "metadata": {},
     "output_type": "execute_result"
    }
   ],
   "source": [
    "y=hd['stroke'].values"
   ]
  },
  {
   "cell_type": "code",
   "execution_count": 103,
   "metadata": {},
   "outputs": [
    {
     "data": {
      "text/html": [
       "<div>\n",
       "<style scoped>\n",
       "    .dataframe tbody tr th:only-of-type {\n",
       "        vertical-align: middle;\n",
       "    }\n",
       "\n",
       "    .dataframe tbody tr th {\n",
       "        vertical-align: top;\n",
       "    }\n",
       "\n",
       "    .dataframe thead th {\n",
       "        text-align: right;\n",
       "    }\n",
       "</style>\n",
       "<table border=\"1\" class=\"dataframe\">\n",
       "  <thead>\n",
       "    <tr style=\"text-align: right;\">\n",
       "      <th></th>\n",
       "      <th>gender</th>\n",
       "      <th>age</th>\n",
       "      <th>hypertension</th>\n",
       "      <th>heart_disease</th>\n",
       "      <th>ever_married</th>\n",
       "      <th>work_type</th>\n",
       "      <th>Residence_type</th>\n",
       "      <th>avg_glucose_level</th>\n",
       "      <th>bmi</th>\n",
       "      <th>smoking_status</th>\n",
       "      <th>stroke</th>\n",
       "      <th>fat_bsugar</th>\n",
       "    </tr>\n",
       "  </thead>\n",
       "  <tbody>\n",
       "    <tr>\n",
       "      <th>0</th>\n",
       "      <td>Male</td>\n",
       "      <td>67.00</td>\n",
       "      <td>0</td>\n",
       "      <td>1</td>\n",
       "      <td>Yes</td>\n",
       "      <td>Private</td>\n",
       "      <td>Urban</td>\n",
       "      <td>228.69</td>\n",
       "      <td>36.600000</td>\n",
       "      <td>1</td>\n",
       "      <td>1</td>\n",
       "      <td>8370.054000</td>\n",
       "    </tr>\n",
       "    <tr>\n",
       "      <th>1</th>\n",
       "      <td>Female</td>\n",
       "      <td>61.00</td>\n",
       "      <td>0</td>\n",
       "      <td>0</td>\n",
       "      <td>Yes</td>\n",
       "      <td>Self-employed</td>\n",
       "      <td>Rural</td>\n",
       "      <td>202.21</td>\n",
       "      <td>28.893237</td>\n",
       "      <td>2</td>\n",
       "      <td>1</td>\n",
       "      <td>5842.501436</td>\n",
       "    </tr>\n",
       "    <tr>\n",
       "      <th>2</th>\n",
       "      <td>Male</td>\n",
       "      <td>80.00</td>\n",
       "      <td>0</td>\n",
       "      <td>1</td>\n",
       "      <td>Yes</td>\n",
       "      <td>Private</td>\n",
       "      <td>Rural</td>\n",
       "      <td>105.92</td>\n",
       "      <td>32.500000</td>\n",
       "      <td>2</td>\n",
       "      <td>1</td>\n",
       "      <td>3442.400000</td>\n",
       "    </tr>\n",
       "    <tr>\n",
       "      <th>3</th>\n",
       "      <td>Female</td>\n",
       "      <td>49.00</td>\n",
       "      <td>0</td>\n",
       "      <td>0</td>\n",
       "      <td>Yes</td>\n",
       "      <td>Private</td>\n",
       "      <td>Urban</td>\n",
       "      <td>171.23</td>\n",
       "      <td>34.400000</td>\n",
       "      <td>3</td>\n",
       "      <td>1</td>\n",
       "      <td>5890.312000</td>\n",
       "    </tr>\n",
       "    <tr>\n",
       "      <th>4</th>\n",
       "      <td>Female</td>\n",
       "      <td>79.00</td>\n",
       "      <td>1</td>\n",
       "      <td>0</td>\n",
       "      <td>Yes</td>\n",
       "      <td>Self-employed</td>\n",
       "      <td>Rural</td>\n",
       "      <td>174.12</td>\n",
       "      <td>24.000000</td>\n",
       "      <td>2</td>\n",
       "      <td>1</td>\n",
       "      <td>4178.880000</td>\n",
       "    </tr>\n",
       "    <tr>\n",
       "      <th>...</th>\n",
       "      <td>...</td>\n",
       "      <td>...</td>\n",
       "      <td>...</td>\n",
       "      <td>...</td>\n",
       "      <td>...</td>\n",
       "      <td>...</td>\n",
       "      <td>...</td>\n",
       "      <td>...</td>\n",
       "      <td>...</td>\n",
       "      <td>...</td>\n",
       "      <td>...</td>\n",
       "      <td>...</td>\n",
       "    </tr>\n",
       "    <tr>\n",
       "      <th>4934</th>\n",
       "      <td>Male</td>\n",
       "      <td>1.32</td>\n",
       "      <td>0</td>\n",
       "      <td>0</td>\n",
       "      <td>No</td>\n",
       "      <td>children</td>\n",
       "      <td>Rural</td>\n",
       "      <td>107.02</td>\n",
       "      <td>28.893237</td>\n",
       "      <td>0</td>\n",
       "      <td>0</td>\n",
       "      <td>3092.154214</td>\n",
       "    </tr>\n",
       "    <tr>\n",
       "      <th>4938</th>\n",
       "      <td>Female</td>\n",
       "      <td>62.00</td>\n",
       "      <td>0</td>\n",
       "      <td>0</td>\n",
       "      <td>Yes</td>\n",
       "      <td>Private</td>\n",
       "      <td>Urban</td>\n",
       "      <td>74.12</td>\n",
       "      <td>21.800000</td>\n",
       "      <td>1</td>\n",
       "      <td>0</td>\n",
       "      <td>1615.816000</td>\n",
       "    </tr>\n",
       "    <tr>\n",
       "      <th>5052</th>\n",
       "      <td>Female</td>\n",
       "      <td>6.00</td>\n",
       "      <td>0</td>\n",
       "      <td>0</td>\n",
       "      <td>No</td>\n",
       "      <td>children</td>\n",
       "      <td>Urban</td>\n",
       "      <td>91.05</td>\n",
       "      <td>22.100000</td>\n",
       "      <td>0</td>\n",
       "      <td>0</td>\n",
       "      <td>2012.205000</td>\n",
       "    </tr>\n",
       "    <tr>\n",
       "      <th>5053</th>\n",
       "      <td>Female</td>\n",
       "      <td>46.00</td>\n",
       "      <td>0</td>\n",
       "      <td>0</td>\n",
       "      <td>Yes</td>\n",
       "      <td>Govt_job</td>\n",
       "      <td>Urban</td>\n",
       "      <td>55.84</td>\n",
       "      <td>27.800000</td>\n",
       "      <td>2</td>\n",
       "      <td>0</td>\n",
       "      <td>1552.352000</td>\n",
       "    </tr>\n",
       "    <tr>\n",
       "      <th>5055</th>\n",
       "      <td>Female</td>\n",
       "      <td>25.00</td>\n",
       "      <td>0</td>\n",
       "      <td>0</td>\n",
       "      <td>No</td>\n",
       "      <td>Private</td>\n",
       "      <td>Urban</td>\n",
       "      <td>92.06</td>\n",
       "      <td>25.300000</td>\n",
       "      <td>3</td>\n",
       "      <td>0</td>\n",
       "      <td>2329.118000</td>\n",
       "    </tr>\n",
       "  </tbody>\n",
       "</table>\n",
       "<p>499 rows × 12 columns</p>\n",
       "</div>"
      ],
      "text/plain": [
       "      gender    age  hypertension  heart_disease ever_married      work_type  \\\n",
       "0       Male  67.00             0              1          Yes        Private   \n",
       "1     Female  61.00             0              0          Yes  Self-employed   \n",
       "2       Male  80.00             0              1          Yes        Private   \n",
       "3     Female  49.00             0              0          Yes        Private   \n",
       "4     Female  79.00             1              0          Yes  Self-employed   \n",
       "...      ...    ...           ...            ...          ...            ...   \n",
       "4934    Male   1.32             0              0           No       children   \n",
       "4938  Female  62.00             0              0          Yes        Private   \n",
       "5052  Female   6.00             0              0           No       children   \n",
       "5053  Female  46.00             0              0          Yes       Govt_job   \n",
       "5055  Female  25.00             0              0           No        Private   \n",
       "\n",
       "     Residence_type  avg_glucose_level        bmi  smoking_status  stroke  \\\n",
       "0             Urban             228.69  36.600000               1       1   \n",
       "1             Rural             202.21  28.893237               2       1   \n",
       "2             Rural             105.92  32.500000               2       1   \n",
       "3             Urban             171.23  34.400000               3       1   \n",
       "4             Rural             174.12  24.000000               2       1   \n",
       "...             ...                ...        ...             ...     ...   \n",
       "4934          Rural             107.02  28.893237               0       0   \n",
       "4938          Urban              74.12  21.800000               1       0   \n",
       "5052          Urban              91.05  22.100000               0       0   \n",
       "5053          Urban              55.84  27.800000               2       0   \n",
       "5055          Urban              92.06  25.300000               3       0   \n",
       "\n",
       "       fat_bsugar  \n",
       "0     8370.054000  \n",
       "1     5842.501436  \n",
       "2     3442.400000  \n",
       "3     5890.312000  \n",
       "4     4178.880000  \n",
       "...           ...  \n",
       "4934  3092.154214  \n",
       "4938  1615.816000  \n",
       "5052  2012.205000  \n",
       "5053  1552.352000  \n",
       "5055  2329.118000  \n",
       "\n",
       "[499 rows x 12 columns]"
      ]
     },
     "execution_count": 103,
     "metadata": {},
     "output_type": "execute_result"
    }
   ],
   "source": [
    "#balance dataset\n",
    "#data=hd.loc[hd['stroke'] == 0]\n",
    "\n",
    "s0 = hd.stroke[hd.stroke.eq(0)].sample(250).index\n",
    "s1 = hd.stroke[hd.stroke.eq(1)].sample(249).index \n",
    "\n",
    "df = hd.loc[s0.union(s1)]\n",
    "df"
   ]
  },
  {
   "cell_type": "code",
   "execution_count": 104,
   "metadata": {},
   "outputs": [],
   "source": [
    "from sklearn.compose import ColumnTransformer\n",
    "from sklearn.pipeline import Pipeline\n",
    "from sklearn.preprocessing import StandardScaler, OneHotEncoder\n",
    "\n",
    "one_hot_features=['ever_married','gender','work_type','Residence_type']\n",
    "numerical_features=['age','bmi','avg_glucose_level','hypertension','heart_disease','smoking_status','fat_bsugar']\n",
    "\n",
    "features=numerical_features+one_hot_features\n",
    "\n",
    "hd_processing_pipeline=ColumnTransformer([\n",
    "    ('numerical',StandardScaler(), numerical_features),\n",
    "    ('one_hot',OneHotEncoder(categories='auto'), one_hot_features)\n",
    "])\n",
    "\n",
    "X1=hd_processing_pipeline.fit_transform(df[features])\n",
    "y1=df['stroke'].values"
   ]
  },
  {
   "cell_type": "markdown",
   "metadata": {},
   "source": [
    "## Part 3. PCA"
   ]
  },
  {
   "cell_type": "markdown",
   "metadata": {},
   "source": [
    "### Interpret feature importance"
   ]
  },
  {
   "cell_type": "code",
   "execution_count": 92,
   "metadata": {},
   "outputs": [
    {
     "name": "stdout",
     "output_type": "stream",
     "text": [
      "Feature \t\t F-score \t\t MI\n",
      "age \t\t 326.9165678586869 \t\t 0.026662948367882855\n",
      "bmi \t\t 7.7597756541479805 \t\t 0.01062980359987531\n",
      "avg_glucose_level \t\t 90.50386961378669 \t\t 0.0\n",
      "hypertension \t\t 84.95354215997183 \t\t 0.0027149648095747825\n",
      "heart_disease \t\t 94.69840601634587 \t\t 0.005356715512613519\n",
      "smoking_status \t\t 4.043033245970726 \t\t 0.010113073346990298\n",
      "fat_bsugar \t\t 81.09226477115658 \t\t 0.016923846630360728\n",
      "ever_married \t\t 60.66722965592213 \t\t 0.0\n",
      "gender \t\t 60.66722965591385 \t\t 0.00022961730778447986\n",
      "work_type \t\t 0.4162314391342801 \t\t 0.0\n",
      "Residence_type \t\t 0.4246250130154117 \t\t 0.010432979703790757\n"
     ]
    }
   ],
   "source": [
    "from sklearn.feature_selection import SelectKBest, mutual_info_regression, f_regression\n",
    "\n",
    "f_score, _ = f_regression(X,y)\n",
    "discrete_features = np.zeros(X.shape[1])\n",
    "discrete_features[0:len(hd_processing_pipeline.transformers[0][2])] = 1 # Numerical features are at the start\n",
    "mi = mutual_info_regression(X, y, discrete_features=discrete_features.astype('bool_'))\n",
    "\n",
    "print(\"Feature \\t\\t F-score \\t\\t MI\")\n",
    "for i,feature in enumerate(features): \n",
    "  print(f\"{feature} \\t\\t {f_score[i]} \\t\\t {mi[i]}\")\n",
    "\n",
    "X_best = SelectKBest(f_regression,k=10).fit_transform(X, y)"
   ]
  },
  {
   "cell_type": "code",
   "execution_count": 97,
   "metadata": {},
   "outputs": [
    {
     "data": {
      "text/plain": [
       "array([[ 1.05143428e+00,  1.00123401e+00,  2.70637544e+00, ...,\n",
       "         1.00000000e+00,  0.00000000e+00,  0.00000000e+00],\n",
       "       [ 7.86070073e-01,  1.38466607e-15,  2.12155854e+00, ...,\n",
       "         1.00000000e+00,  1.00000000e+00,  0.00000000e+00],\n",
       "       [ 1.62639008e+00,  4.68577254e-01, -5.02830130e-03, ...,\n",
       "         1.00000000e+00,  0.00000000e+00,  0.00000000e+00],\n",
       "       ...,\n",
       "       [-3.63841511e-01,  2.21736316e-01, -5.11442636e-01, ...,\n",
       "         1.00000000e+00,  1.00000000e+00,  0.00000000e+00],\n",
       "       [ 3.43796387e-01, -4.27845098e-01,  1.32825706e+00, ...,\n",
       "         1.00000000e+00,  0.00000000e+00,  0.00000000e+00],\n",
       "       [ 3.42048064e-02, -3.49895329e-01, -4.60867458e-01, ...,\n",
       "         1.00000000e+00,  0.00000000e+00,  0.00000000e+00]])"
      ]
     },
     "execution_count": 97,
     "metadata": {},
     "output_type": "execute_result"
    }
   ],
   "source": [
    "X_best"
   ]
  },
  {
   "cell_type": "markdown",
   "metadata": {},
   "source": [
    "### PCA dimensionality reduction"
   ]
  },
  {
   "cell_type": "code",
   "execution_count": 124,
   "metadata": {},
   "outputs": [
    {
     "data": {
      "text/plain": [
       "Text(0, 0.5, 'Total Explained Variance Ratio')"
      ]
     },
     "execution_count": 124,
     "metadata": {},
     "output_type": "execute_result"
    },
    {
     "data": {
      "image/png": "[encoded data removed]",
      "text/plain": [
       "<Figure size 432x288 with 1 Axes>"
      ]
     },
     "metadata": {
      "needs_background": "light"
     },
     "output_type": "display_data"
    },
    {
     "data": {
      "image/png": "[encoded data removed]",
      "text/plain": [
       "<Figure size 432x288 with 1 Axes>"
      ]
     },
     "metadata": {
      "needs_background": "light"
     },
     "output_type": "display_data"
    }
   ],
   "source": [
    "from sklearn.decomposition import PCA\n",
    "pca = PCA(n_components=15)\n",
    "pc = pca.fit_transform(X1)\n",
    "\n",
    "plt.figure()\n",
    "plt.plot(np.arange(15)+1,sorted(pca.explained_variance_ratio_,reverse=True))\n",
    "plt.scatter(np.arange(15)+1,sorted(pca.explained_variance_ratio_,reverse=True),)\n",
    "plt.xlabel(\"Components\") \n",
    "plt.ylabel(\"Explained Variance Ratio per Component\")\n",
    "\n",
    "plt.figure()\n",
    "plt.plot(np.arange(15)+1,np.cumsum(pca.explained_variance_ratio_))\n",
    "plt.scatter(np.arange(15)+1,np.cumsum(pca.explained_variance_ratio_))\n",
    "plt.xlabel(\"Components\")\n",
    "plt.ylabel(\"Total Explained Variance Ratio\")"
   ]
  },
  {
   "cell_type": "code",
   "execution_count": 138,
   "metadata": {},
   "outputs": [],
   "source": [
    "from sklearn.decomposition import PCA\n",
    "pca = PCA(n_components=7)\n",
    "pc = pca.fit_transform(X1)"
   ]
  },
  {
   "cell_type": "markdown",
   "metadata": {},
   "source": [
    "### train-test split"
   ]
  },
  {
   "cell_type": "code",
   "execution_count": 105,
   "metadata": {},
   "outputs": [],
   "source": [
    "train, test, target, target_test = train_test_split(X1, y1, test_size=0.2, random_state=42)"
   ]
  },
  {
   "cell_type": "code",
   "execution_count": 139,
   "metadata": {},
   "outputs": [],
   "source": [
    "#after pca\n",
    "pca_train, pca_test, pca_target, pca_target_test = train_test_split(pc, y1, test_size=0.2, random_state=42)"
   ]
  },
  {
   "cell_type": "markdown",
   "metadata": {},
   "source": [
    "## Part 4. Logistic Regression"
   ]
  },
  {
   "cell_type": "code",
   "execution_count": 108,
   "metadata": {},
   "outputs": [
    {
     "name": "stdout",
     "output_type": "stream",
     "text": [
      "Accuracy:    0.770000\n",
      "Precision:   0.769231\n",
      "Recall:      0.784314\n",
      "F1 Score:    0.776699\n",
      "Confusion Matrix: \n",
      " [[37 12]\n",
      " [11 40]]\n"
     ]
    },
    {
     "data": {
      "image/png": "[encoded data removed]",
      "text/plain": [
       "<Figure size 432x288 with 2 Axes>"
      ]
     },
     "metadata": {
      "needs_background": "light"
     },
     "output_type": "display_data"
    },
    {
     "name": "stdout",
     "output_type": "stream",
     "text": [
      "Logistic Model Performance Results:\n",
      "\n"
     ]
    },
    {
     "data": {
      "text/plain": [
       "Text(0, 0.5, 'TPR')"
      ]
     },
     "execution_count": 108,
     "metadata": {},
     "output_type": "execute_result"
    },
    {
     "data": {
      "image/png": "[encoded data removed]",
      "text/plain": [
       "<Figure size 432x288 with 1 Axes>"
      ]
     },
     "metadata": {
      "needs_background": "light"
     },
     "output_type": "display_data"
    }
   ],
   "source": [
    "train_data_category = target\n",
    "test_data_category = target_test\n",
    "\n",
    "log_reg = LogisticRegression(penalty = 'l1', solver='liblinear')\n",
    "log_reg.fit(train, target)\n",
    "predicted = log_reg.predict(test)\n",
    "score = log_reg.predict_proba(test)[:,1]\n",
    "\n",
    "print(\"%-12s %f\" % ('Accuracy:', metrics.accuracy_score(test_data_category, predicted)))\n",
    "print(\"%-12s %f\" % ('Precision:', metrics.precision_score(test_data_category, predicted, labels=None, pos_label=1, average='binary', sample_weight=None)))\n",
    "print(\"%-12s %f\" % ('Recall:', metrics.recall_score(test_data_category, predicted, labels=None, pos_label=1, average='binary', sample_weight=None)))\n",
    "print(\"%-12s %f\" % ('F1 Score:', metrics.f1_score(test_data_category, predicted, labels=None, pos_label=1, average='binary', sample_weight=None)))\n",
    "print(\"Confusion Matrix: \\n\", metrics.confusion_matrix(test_data_category, predicted))\n",
    "draw_confusion_matrix(target_test, predicted, ['stroke1', 'stroke0'])\n",
    "fpr_log_reg, tpr_log_reg, thresholds = metrics.roc_curve(test_data_category, score)\n",
    "\n",
    "print(\"Logistic Model Performance Results:\\n\")\n",
    "\n",
    "pyplot.figure(1)\n",
    "pyplot.plot(fpr_log_reg, tpr_log_reg, color='orange', lw=1)\n",
    "pyplot.title(\"ROC curve with Logistic Regression\")\n",
    "pyplot.xlabel('FPR')\n",
    "pyplot.ylabel('TPR')"
   ]
  },
  {
   "cell_type": "code",
   "execution_count": 135,
   "metadata": {},
   "outputs": [
    {
     "name": "stdout",
     "output_type": "stream",
     "text": [
      "Accuracy:    0.780000\n",
      "Precision:   0.763636\n",
      "Recall:      0.823529\n",
      "F1 Score:    0.792453\n",
      "Confusion Matrix: \n",
      " [[36 13]\n",
      " [ 9 42]]\n"
     ]
    },
    {
     "data": {
      "image/png": "[encoded data removed]",
      "text/plain": [
       "<Figure size 432x288 with 2 Axes>"
      ]
     },
     "metadata": {
      "needs_background": "light"
     },
     "output_type": "display_data"
    },
    {
     "name": "stdout",
     "output_type": "stream",
     "text": [
      "Logistic Model Performance Results:\n",
      "\n"
     ]
    },
    {
     "data": {
      "text/plain": [
       "Text(0, 0.5, 'TPR')"
      ]
     },
     "execution_count": 135,
     "metadata": {},
     "output_type": "execute_result"
    },
    {
     "data": {
      "image/png": "[encoded data removed]",
      "text/plain": [
       "<Figure size 432x288 with 1 Axes>"
      ]
     },
     "metadata": {
      "needs_background": "light"
     },
     "output_type": "display_data"
    }
   ],
   "source": [
    "#pca n_components=5\n",
    "pca_train_data_category = pca_target\n",
    "pca_test_data_category = pca_target_test\n",
    "\n",
    "log_reg = LogisticRegression(penalty = 'l1', solver='liblinear')\n",
    "log_reg.fit(pca_train, pca_target)\n",
    "pca_predicted = log_reg.predict(pca_test)\n",
    "pca_score = log_reg.predict_proba(pca_test)[:,1]\n",
    "\n",
    "print(\"%-12s %f\" % ('Accuracy:', metrics.accuracy_score(pca_test_data_category, pca_predicted)))\n",
    "print(\"%-12s %f\" % ('Precision:', metrics.precision_score(pca_test_data_category, pca_predicted, labels=None, pos_label=1, average='binary', sample_weight=None)))\n",
    "print(\"%-12s %f\" % ('Recall:', metrics.recall_score(pca_test_data_category, pca_predicted, labels=None, pos_label=1, average='binary', sample_weight=None)))\n",
    "print(\"%-12s %f\" % ('F1 Score:', metrics.f1_score(pca_test_data_category, pca_predicted, labels=None, pos_label=1, average='binary', sample_weight=None)))\n",
    "print(\"Confusion Matrix: \\n\", metrics.confusion_matrix(pca_test_data_category, pca_predicted))\n",
    "draw_confusion_matrix(pca_target_test, pca_predicted, ['stroke1', 'stroke0'])\n",
    "fpr_log_reg, tpr_log_reg, thresholds = metrics.roc_curve(pca_test_data_category, pca_score)\n",
    "\n",
    "print(\"Logistic Model Performance Results:\\n\")\n",
    "\n",
    "pyplot.figure(1)\n",
    "pyplot.plot(fpr_log_reg, tpr_log_reg, color='orange', lw=1)\n",
    "pyplot.title(\"ROC curve with Logistic Regression\")\n",
    "pyplot.xlabel('FPR')\n",
    "pyplot.ylabel('TPR')"
   ]
  },
  {
   "cell_type": "code",
   "execution_count": 140,
   "metadata": {},
   "outputs": [
    {
     "name": "stdout",
     "output_type": "stream",
     "text": [
      "Accuracy:    0.810000\n",
      "Precision:   0.807692\n",
      "Recall:      0.823529\n",
      "F1 Score:    0.815534\n",
      "Confusion Matrix: \n",
      " [[39 10]\n",
      " [ 9 42]]\n"
     ]
    },
    {
     "data": {
      "image/png": "[encoded data removed]",
      "text/plain": [
       "<Figure size 432x288 with 2 Axes>"
      ]
     },
     "metadata": {
      "needs_background": "light"
     },
     "output_type": "display_data"
    },
    {
     "name": "stdout",
     "output_type": "stream",
     "text": [
      "Logistic Model Performance Results:\n",
      "\n"
     ]
    },
    {
     "data": {
      "text/plain": [
       "Text(0, 0.5, 'TPR')"
      ]
     },
     "execution_count": 140,
     "metadata": {},
     "output_type": "execute_result"
    },
    {
     "data": {
      "image/png": "[encoded data removed]",
      "text/plain": [
       "<Figure size 432x288 with 1 Axes>"
      ]
     },
     "metadata": {
      "needs_background": "light"
     },
     "output_type": "display_data"
    }
   ],
   "source": [
    "#7 features\n",
    "pca_train_data_category = pca_target\n",
    "pca_test_data_category = pca_target_test\n",
    "\n",
    "log_reg = LogisticRegression(penalty = 'l1', solver='liblinear')\n",
    "log_reg.fit(pca_train, pca_target)\n",
    "pca_predicted = log_reg.predict(pca_test)\n",
    "pca_score = log_reg.predict_proba(pca_test)[:,1]\n",
    "\n",
    "print(\"%-12s %f\" % ('Accuracy:', metrics.accuracy_score(pca_test_data_category, pca_predicted)))\n",
    "print(\"%-12s %f\" % ('Precision:', metrics.precision_score(pca_test_data_category, pca_predicted, labels=None, pos_label=1, average='binary', sample_weight=None)))\n",
    "print(\"%-12s %f\" % ('Recall:', metrics.recall_score(pca_test_data_category, pca_predicted, labels=None, pos_label=1, average='binary', sample_weight=None)))\n",
    "print(\"%-12s %f\" % ('F1 Score:', metrics.f1_score(pca_test_data_category, pca_predicted, labels=None, pos_label=1, average='binary', sample_weight=None)))\n",
    "print(\"Confusion Matrix: \\n\", metrics.confusion_matrix(pca_test_data_category, pca_predicted))\n",
    "draw_confusion_matrix(pca_target_test, pca_predicted, ['stroke1', 'stroke0'])\n",
    "fpr_log_reg, tpr_log_reg, thresholds = metrics.roc_curve(pca_test_data_category, pca_score)\n",
    "\n",
    "print(\"Logistic Model Performance Results:\\n\")\n",
    "\n",
    "pyplot.figure(1)\n",
    "pyplot.plot(fpr_log_reg, tpr_log_reg, color='orange', lw=1)\n",
    "pyplot.title(\"ROC curve with Logistic Regression\")\n",
    "pyplot.xlabel('FPR')\n",
    "pyplot.ylabel('TPR')"
   ]
  },
  {
   "cell_type": "markdown",
   "metadata": {},
   "source": [
    "## Part 5. Ensemble (Random Forest)"
   ]
  },
  {
   "cell_type": "code",
   "execution_count": 110,
   "metadata": {},
   "outputs": [
    {
     "name": "stderr",
     "output_type": "stream",
     "text": [
      "/Users/zhiyuanchen/anaconda3/lib/python3.7/site-packages/sklearn/ensemble/_forest.py:523: UserWarning: Some inputs do not have OOB scores. This probably means too few trees were used to compute any reliable oob estimates.\n",
      "  warn(\"Some inputs do not have OOB scores. \"\n",
      "/Users/zhiyuanchen/anaconda3/lib/python3.7/site-packages/sklearn/ensemble/_forest.py:528: RuntimeWarning: invalid value encountered in true_divide\n",
      "  predictions[k].sum(axis=1)[:, np.newaxis])\n",
      "/Users/zhiyuanchen/anaconda3/lib/python3.7/site-packages/sklearn/ensemble/_forest.py:523: UserWarning: Some inputs do not have OOB scores. This probably means too few trees were used to compute any reliable oob estimates.\n",
      "  warn(\"Some inputs do not have OOB scores. \"\n",
      "/Users/zhiyuanchen/anaconda3/lib/python3.7/site-packages/sklearn/ensemble/_forest.py:528: RuntimeWarning: invalid value encountered in true_divide\n",
      "  predictions[k].sum(axis=1)[:, np.newaxis])\n",
      "/Users/zhiyuanchen/anaconda3/lib/python3.7/site-packages/sklearn/ensemble/_forest.py:523: UserWarning: Some inputs do not have OOB scores. This probably means too few trees were used to compute any reliable oob estimates.\n",
      "  warn(\"Some inputs do not have OOB scores. \"\n",
      "/Users/zhiyuanchen/anaconda3/lib/python3.7/site-packages/sklearn/ensemble/_forest.py:528: RuntimeWarning: invalid value encountered in true_divide\n",
      "  predictions[k].sum(axis=1)[:, np.newaxis])\n",
      "/Users/zhiyuanchen/anaconda3/lib/python3.7/site-packages/sklearn/ensemble/_forest.py:523: UserWarning: Some inputs do not have OOB scores. This probably means too few trees were used to compute any reliable oob estimates.\n",
      "  warn(\"Some inputs do not have OOB scores. \"\n",
      "/Users/zhiyuanchen/anaconda3/lib/python3.7/site-packages/sklearn/ensemble/_forest.py:528: RuntimeWarning: invalid value encountered in true_divide\n",
      "  predictions[k].sum(axis=1)[:, np.newaxis])\n",
      "/Users/zhiyuanchen/anaconda3/lib/python3.7/site-packages/sklearn/ensemble/_forest.py:523: UserWarning: Some inputs do not have OOB scores. This probably means too few trees were used to compute any reliable oob estimates.\n",
      "  warn(\"Some inputs do not have OOB scores. \"\n",
      "/Users/zhiyuanchen/anaconda3/lib/python3.7/site-packages/sklearn/ensemble/_forest.py:528: RuntimeWarning: invalid value encountered in true_divide\n",
      "  predictions[k].sum(axis=1)[:, np.newaxis])\n",
      "/Users/zhiyuanchen/anaconda3/lib/python3.7/site-packages/sklearn/ensemble/_forest.py:523: UserWarning: Some inputs do not have OOB scores. This probably means too few trees were used to compute any reliable oob estimates.\n",
      "  warn(\"Some inputs do not have OOB scores. \"\n",
      "/Users/zhiyuanchen/anaconda3/lib/python3.7/site-packages/sklearn/ensemble/_forest.py:528: RuntimeWarning: invalid value encountered in true_divide\n",
      "  predictions[k].sum(axis=1)[:, np.newaxis])\n",
      "/Users/zhiyuanchen/anaconda3/lib/python3.7/site-packages/sklearn/ensemble/_forest.py:523: UserWarning: Some inputs do not have OOB scores. This probably means too few trees were used to compute any reliable oob estimates.\n",
      "  warn(\"Some inputs do not have OOB scores. \"\n",
      "/Users/zhiyuanchen/anaconda3/lib/python3.7/site-packages/sklearn/ensemble/_forest.py:528: RuntimeWarning: invalid value encountered in true_divide\n",
      "  predictions[k].sum(axis=1)[:, np.newaxis])\n",
      "/Users/zhiyuanchen/anaconda3/lib/python3.7/site-packages/sklearn/ensemble/_forest.py:523: UserWarning: Some inputs do not have OOB scores. This probably means too few trees were used to compute any reliable oob estimates.\n",
      "  warn(\"Some inputs do not have OOB scores. \"\n",
      "/Users/zhiyuanchen/anaconda3/lib/python3.7/site-packages/sklearn/ensemble/_forest.py:528: RuntimeWarning: invalid value encountered in true_divide\n",
      "  predictions[k].sum(axis=1)[:, np.newaxis])\n",
      "/Users/zhiyuanchen/anaconda3/lib/python3.7/site-packages/sklearn/ensemble/_forest.py:523: UserWarning: Some inputs do not have OOB scores. This probably means too few trees were used to compute any reliable oob estimates.\n",
      "  warn(\"Some inputs do not have OOB scores. \"\n",
      "/Users/zhiyuanchen/anaconda3/lib/python3.7/site-packages/sklearn/ensemble/_forest.py:528: RuntimeWarning: invalid value encountered in true_divide\n",
      "  predictions[k].sum(axis=1)[:, np.newaxis])\n",
      "/Users/zhiyuanchen/anaconda3/lib/python3.7/site-packages/sklearn/ensemble/_forest.py:523: UserWarning: Some inputs do not have OOB scores. This probably means too few trees were used to compute any reliable oob estimates.\n",
      "  warn(\"Some inputs do not have OOB scores. \"\n",
      "/Users/zhiyuanchen/anaconda3/lib/python3.7/site-packages/sklearn/ensemble/_forest.py:528: RuntimeWarning: invalid value encountered in true_divide\n",
      "  predictions[k].sum(axis=1)[:, np.newaxis])\n",
      "/Users/zhiyuanchen/anaconda3/lib/python3.7/site-packages/sklearn/ensemble/_forest.py:523: UserWarning: Some inputs do not have OOB scores. This probably means too few trees were used to compute any reliable oob estimates.\n",
      "  warn(\"Some inputs do not have OOB scores. \"\n",
      "/Users/zhiyuanchen/anaconda3/lib/python3.7/site-packages/sklearn/ensemble/_forest.py:528: RuntimeWarning: invalid value encountered in true_divide\n",
      "  predictions[k].sum(axis=1)[:, np.newaxis])\n",
      "/Users/zhiyuanchen/anaconda3/lib/python3.7/site-packages/sklearn/ensemble/_forest.py:523: UserWarning: Some inputs do not have OOB scores. This probably means too few trees were used to compute any reliable oob estimates.\n",
      "  warn(\"Some inputs do not have OOB scores. \"\n",
      "/Users/zhiyuanchen/anaconda3/lib/python3.7/site-packages/sklearn/ensemble/_forest.py:528: RuntimeWarning: invalid value encountered in true_divide\n",
      "  predictions[k].sum(axis=1)[:, np.newaxis])\n",
      "/Users/zhiyuanchen/anaconda3/lib/python3.7/site-packages/sklearn/ensemble/_forest.py:523: UserWarning: Some inputs do not have OOB scores. This probably means too few trees were used to compute any reliable oob estimates.\n",
      "  warn(\"Some inputs do not have OOB scores. \"\n",
      "/Users/zhiyuanchen/anaconda3/lib/python3.7/site-packages/sklearn/ensemble/_forest.py:528: RuntimeWarning: invalid value encountered in true_divide\n",
      "  predictions[k].sum(axis=1)[:, np.newaxis])\n",
      "/Users/zhiyuanchen/anaconda3/lib/python3.7/site-packages/sklearn/ensemble/_forest.py:523: UserWarning: Some inputs do not have OOB scores. This probably means too few trees were used to compute any reliable oob estimates.\n",
      "  warn(\"Some inputs do not have OOB scores. \"\n",
      "/Users/zhiyuanchen/anaconda3/lib/python3.7/site-packages/sklearn/ensemble/_forest.py:528: RuntimeWarning: invalid value encountered in true_divide\n",
      "  predictions[k].sum(axis=1)[:, np.newaxis])\n",
      "/Users/zhiyuanchen/anaconda3/lib/python3.7/site-packages/sklearn/ensemble/_forest.py:523: UserWarning: Some inputs do not have OOB scores. This probably means too few trees were used to compute any reliable oob estimates.\n",
      "  warn(\"Some inputs do not have OOB scores. \"\n",
      "/Users/zhiyuanchen/anaconda3/lib/python3.7/site-packages/sklearn/ensemble/_forest.py:528: RuntimeWarning: invalid value encountered in true_divide\n",
      "  predictions[k].sum(axis=1)[:, np.newaxis])\n",
      "/Users/zhiyuanchen/anaconda3/lib/python3.7/site-packages/sklearn/ensemble/_forest.py:523: UserWarning: Some inputs do not have OOB scores. This probably means too few trees were used to compute any reliable oob estimates.\n",
      "  warn(\"Some inputs do not have OOB scores. \"\n",
      "/Users/zhiyuanchen/anaconda3/lib/python3.7/site-packages/sklearn/ensemble/_forest.py:528: RuntimeWarning: invalid value encountered in true_divide\n",
      "  predictions[k].sum(axis=1)[:, np.newaxis])\n",
      "/Users/zhiyuanchen/anaconda3/lib/python3.7/site-packages/sklearn/ensemble/_forest.py:523: UserWarning: Some inputs do not have OOB scores. This probably means too few trees were used to compute any reliable oob estimates.\n",
      "  warn(\"Some inputs do not have OOB scores. \"\n",
      "/Users/zhiyuanchen/anaconda3/lib/python3.7/site-packages/sklearn/ensemble/_forest.py:528: RuntimeWarning: invalid value encountered in true_divide\n",
      "  predictions[k].sum(axis=1)[:, np.newaxis])\n",
      "/Users/zhiyuanchen/anaconda3/lib/python3.7/site-packages/sklearn/ensemble/_forest.py:523: UserWarning: Some inputs do not have OOB scores. This probably means too few trees were used to compute any reliable oob estimates.\n",
      "  warn(\"Some inputs do not have OOB scores. \"\n",
      "/Users/zhiyuanchen/anaconda3/lib/python3.7/site-packages/sklearn/ensemble/_forest.py:528: RuntimeWarning: invalid value encountered in true_divide\n",
      "  predictions[k].sum(axis=1)[:, np.newaxis])\n",
      "/Users/zhiyuanchen/anaconda3/lib/python3.7/site-packages/sklearn/ensemble/_forest.py:523: UserWarning: Some inputs do not have OOB scores. This probably means too few trees were used to compute any reliable oob estimates.\n",
      "  warn(\"Some inputs do not have OOB scores. \"\n",
      "/Users/zhiyuanchen/anaconda3/lib/python3.7/site-packages/sklearn/ensemble/_forest.py:528: RuntimeWarning: invalid value encountered in true_divide\n",
      "  predictions[k].sum(axis=1)[:, np.newaxis])\n",
      "/Users/zhiyuanchen/anaconda3/lib/python3.7/site-packages/sklearn/ensemble/_forest.py:523: UserWarning: Some inputs do not have OOB scores. This probably means too few trees were used to compute any reliable oob estimates.\n",
      "  warn(\"Some inputs do not have OOB scores. \"\n",
      "/Users/zhiyuanchen/anaconda3/lib/python3.7/site-packages/sklearn/ensemble/_forest.py:528: RuntimeWarning: invalid value encountered in true_divide\n",
      "  predictions[k].sum(axis=1)[:, np.newaxis])\n",
      "/Users/zhiyuanchen/anaconda3/lib/python3.7/site-packages/sklearn/ensemble/_forest.py:523: UserWarning: Some inputs do not have OOB scores. This probably means too few trees were used to compute any reliable oob estimates.\n",
      "  warn(\"Some inputs do not have OOB scores. \"\n",
      "/Users/zhiyuanchen/anaconda3/lib/python3.7/site-packages/sklearn/ensemble/_forest.py:528: RuntimeWarning: invalid value encountered in true_divide\n",
      "  predictions[k].sum(axis=1)[:, np.newaxis])\n",
      "/Users/zhiyuanchen/anaconda3/lib/python3.7/site-packages/sklearn/ensemble/_forest.py:523: UserWarning: Some inputs do not have OOB scores. This probably means too few trees were used to compute any reliable oob estimates.\n",
      "  warn(\"Some inputs do not have OOB scores. \"\n",
      "/Users/zhiyuanchen/anaconda3/lib/python3.7/site-packages/sklearn/ensemble/_forest.py:528: RuntimeWarning: invalid value encountered in true_divide\n",
      "  predictions[k].sum(axis=1)[:, np.newaxis])\n",
      "/Users/zhiyuanchen/anaconda3/lib/python3.7/site-packages/sklearn/ensemble/_forest.py:523: UserWarning: Some inputs do not have OOB scores. This probably means too few trees were used to compute any reliable oob estimates.\n",
      "  warn(\"Some inputs do not have OOB scores. \"\n",
      "/Users/zhiyuanchen/anaconda3/lib/python3.7/site-packages/sklearn/ensemble/_forest.py:528: RuntimeWarning: invalid value encountered in true_divide\n",
      "  predictions[k].sum(axis=1)[:, np.newaxis])\n",
      "/Users/zhiyuanchen/anaconda3/lib/python3.7/site-packages/sklearn/ensemble/_forest.py:523: UserWarning: Some inputs do not have OOB scores. This probably means too few trees were used to compute any reliable oob estimates.\n",
      "  warn(\"Some inputs do not have OOB scores. \"\n",
      "/Users/zhiyuanchen/anaconda3/lib/python3.7/site-packages/sklearn/ensemble/_forest.py:528: RuntimeWarning: invalid value encountered in true_divide\n",
      "  predictions[k].sum(axis=1)[:, np.newaxis])\n",
      "/Users/zhiyuanchen/anaconda3/lib/python3.7/site-packages/sklearn/ensemble/_forest.py:523: UserWarning: Some inputs do not have OOB scores. This probably means too few trees were used to compute any reliable oob estimates.\n",
      "  warn(\"Some inputs do not have OOB scores. \"\n",
      "/Users/zhiyuanchen/anaconda3/lib/python3.7/site-packages/sklearn/ensemble/_forest.py:528: RuntimeWarning: invalid value encountered in true_divide\n",
      "  predictions[k].sum(axis=1)[:, np.newaxis])\n",
      "/Users/zhiyuanchen/anaconda3/lib/python3.7/site-packages/sklearn/ensemble/_forest.py:523: UserWarning: Some inputs do not have OOB scores. This probably means too few trees were used to compute any reliable oob estimates.\n",
      "  warn(\"Some inputs do not have OOB scores. \"\n",
      "/Users/zhiyuanchen/anaconda3/lib/python3.7/site-packages/sklearn/ensemble/_forest.py:528: RuntimeWarning: invalid value encountered in true_divide\n",
      "  predictions[k].sum(axis=1)[:, np.newaxis])\n",
      "/Users/zhiyuanchen/anaconda3/lib/python3.7/site-packages/sklearn/ensemble/_forest.py:523: UserWarning: Some inputs do not have OOB scores. This probably means too few trees were used to compute any reliable oob estimates.\n",
      "  warn(\"Some inputs do not have OOB scores. \"\n",
      "/Users/zhiyuanchen/anaconda3/lib/python3.7/site-packages/sklearn/ensemble/_forest.py:528: RuntimeWarning: invalid value encountered in true_divide\n",
      "  predictions[k].sum(axis=1)[:, np.newaxis])\n",
      "/Users/zhiyuanchen/anaconda3/lib/python3.7/site-packages/sklearn/ensemble/_forest.py:523: UserWarning: Some inputs do not have OOB scores. This probably means too few trees were used to compute any reliable oob estimates.\n",
      "  warn(\"Some inputs do not have OOB scores. \"\n",
      "/Users/zhiyuanchen/anaconda3/lib/python3.7/site-packages/sklearn/ensemble/_forest.py:528: RuntimeWarning: invalid value encountered in true_divide\n",
      "  predictions[k].sum(axis=1)[:, np.newaxis])\n",
      "/Users/zhiyuanchen/anaconda3/lib/python3.7/site-packages/sklearn/ensemble/_forest.py:523: UserWarning: Some inputs do not have OOB scores. This probably means too few trees were used to compute any reliable oob estimates.\n",
      "  warn(\"Some inputs do not have OOB scores. \"\n",
      "/Users/zhiyuanchen/anaconda3/lib/python3.7/site-packages/sklearn/ensemble/_forest.py:528: RuntimeWarning: invalid value encountered in true_divide\n",
      "  predictions[k].sum(axis=1)[:, np.newaxis])\n",
      "/Users/zhiyuanchen/anaconda3/lib/python3.7/site-packages/sklearn/ensemble/_forest.py:523: UserWarning: Some inputs do not have OOB scores. This probably means too few trees were used to compute any reliable oob estimates.\n",
      "  warn(\"Some inputs do not have OOB scores. \"\n",
      "/Users/zhiyuanchen/anaconda3/lib/python3.7/site-packages/sklearn/ensemble/_forest.py:528: RuntimeWarning: invalid value encountered in true_divide\n",
      "  predictions[k].sum(axis=1)[:, np.newaxis])\n",
      "/Users/zhiyuanchen/anaconda3/lib/python3.7/site-packages/sklearn/ensemble/_forest.py:523: UserWarning: Some inputs do not have OOB scores. This probably means too few trees were used to compute any reliable oob estimates.\n",
      "  warn(\"Some inputs do not have OOB scores. \"\n",
      "/Users/zhiyuanchen/anaconda3/lib/python3.7/site-packages/sklearn/ensemble/_forest.py:528: RuntimeWarning: invalid value encountered in true_divide\n",
      "  predictions[k].sum(axis=1)[:, np.newaxis])\n",
      "/Users/zhiyuanchen/anaconda3/lib/python3.7/site-packages/sklearn/ensemble/_forest.py:523: UserWarning: Some inputs do not have OOB scores. This probably means too few trees were used to compute any reliable oob estimates.\n",
      "  warn(\"Some inputs do not have OOB scores. \"\n",
      "/Users/zhiyuanchen/anaconda3/lib/python3.7/site-packages/sklearn/ensemble/_forest.py:528: RuntimeWarning: invalid value encountered in true_divide\n",
      "  predictions[k].sum(axis=1)[:, np.newaxis])\n",
      "/Users/zhiyuanchen/anaconda3/lib/python3.7/site-packages/sklearn/ensemble/_forest.py:523: UserWarning: Some inputs do not have OOB scores. This probably means too few trees were used to compute any reliable oob estimates.\n",
      "  warn(\"Some inputs do not have OOB scores. \"\n",
      "/Users/zhiyuanchen/anaconda3/lib/python3.7/site-packages/sklearn/ensemble/_forest.py:528: RuntimeWarning: invalid value encountered in true_divide\n",
      "  predictions[k].sum(axis=1)[:, np.newaxis])\n"
     ]
    },
    {
     "name": "stderr",
     "output_type": "stream",
     "text": [
      "/Users/zhiyuanchen/anaconda3/lib/python3.7/site-packages/sklearn/ensemble/_forest.py:523: UserWarning: Some inputs do not have OOB scores. This probably means too few trees were used to compute any reliable oob estimates.\n",
      "  warn(\"Some inputs do not have OOB scores. \"\n",
      "/Users/zhiyuanchen/anaconda3/lib/python3.7/site-packages/sklearn/ensemble/_forest.py:528: RuntimeWarning: invalid value encountered in true_divide\n",
      "  predictions[k].sum(axis=1)[:, np.newaxis])\n",
      "/Users/zhiyuanchen/anaconda3/lib/python3.7/site-packages/sklearn/ensemble/_forest.py:523: UserWarning: Some inputs do not have OOB scores. This probably means too few trees were used to compute any reliable oob estimates.\n",
      "  warn(\"Some inputs do not have OOB scores. \"\n",
      "/Users/zhiyuanchen/anaconda3/lib/python3.7/site-packages/sklearn/ensemble/_forest.py:528: RuntimeWarning: invalid value encountered in true_divide\n",
      "  predictions[k].sum(axis=1)[:, np.newaxis])\n",
      "/Users/zhiyuanchen/anaconda3/lib/python3.7/site-packages/sklearn/ensemble/_forest.py:523: UserWarning: Some inputs do not have OOB scores. This probably means too few trees were used to compute any reliable oob estimates.\n",
      "  warn(\"Some inputs do not have OOB scores. \"\n",
      "/Users/zhiyuanchen/anaconda3/lib/python3.7/site-packages/sklearn/ensemble/_forest.py:528: RuntimeWarning: invalid value encountered in true_divide\n",
      "  predictions[k].sum(axis=1)[:, np.newaxis])\n",
      "/Users/zhiyuanchen/anaconda3/lib/python3.7/site-packages/sklearn/ensemble/_forest.py:523: UserWarning: Some inputs do not have OOB scores. This probably means too few trees were used to compute any reliable oob estimates.\n",
      "  warn(\"Some inputs do not have OOB scores. \"\n",
      "/Users/zhiyuanchen/anaconda3/lib/python3.7/site-packages/sklearn/ensemble/_forest.py:528: RuntimeWarning: invalid value encountered in true_divide\n",
      "  predictions[k].sum(axis=1)[:, np.newaxis])\n",
      "/Users/zhiyuanchen/anaconda3/lib/python3.7/site-packages/sklearn/ensemble/_forest.py:523: UserWarning: Some inputs do not have OOB scores. This probably means too few trees were used to compute any reliable oob estimates.\n",
      "  warn(\"Some inputs do not have OOB scores. \"\n",
      "/Users/zhiyuanchen/anaconda3/lib/python3.7/site-packages/sklearn/ensemble/_forest.py:528: RuntimeWarning: invalid value encountered in true_divide\n",
      "  predictions[k].sum(axis=1)[:, np.newaxis])\n",
      "/Users/zhiyuanchen/anaconda3/lib/python3.7/site-packages/sklearn/ensemble/_forest.py:523: UserWarning: Some inputs do not have OOB scores. This probably means too few trees were used to compute any reliable oob estimates.\n",
      "  warn(\"Some inputs do not have OOB scores. \"\n",
      "/Users/zhiyuanchen/anaconda3/lib/python3.7/site-packages/sklearn/ensemble/_forest.py:528: RuntimeWarning: invalid value encountered in true_divide\n",
      "  predictions[k].sum(axis=1)[:, np.newaxis])\n",
      "/Users/zhiyuanchen/anaconda3/lib/python3.7/site-packages/sklearn/ensemble/_forest.py:523: UserWarning: Some inputs do not have OOB scores. This probably means too few trees were used to compute any reliable oob estimates.\n",
      "  warn(\"Some inputs do not have OOB scores. \"\n",
      "/Users/zhiyuanchen/anaconda3/lib/python3.7/site-packages/sklearn/ensemble/_forest.py:528: RuntimeWarning: invalid value encountered in true_divide\n",
      "  predictions[k].sum(axis=1)[:, np.newaxis])\n",
      "/Users/zhiyuanchen/anaconda3/lib/python3.7/site-packages/sklearn/ensemble/_forest.py:523: UserWarning: Some inputs do not have OOB scores. This probably means too few trees were used to compute any reliable oob estimates.\n",
      "  warn(\"Some inputs do not have OOB scores. \"\n",
      "/Users/zhiyuanchen/anaconda3/lib/python3.7/site-packages/sklearn/ensemble/_forest.py:528: RuntimeWarning: invalid value encountered in true_divide\n",
      "  predictions[k].sum(axis=1)[:, np.newaxis])\n",
      "/Users/zhiyuanchen/anaconda3/lib/python3.7/site-packages/sklearn/ensemble/_forest.py:523: UserWarning: Some inputs do not have OOB scores. This probably means too few trees were used to compute any reliable oob estimates.\n",
      "  warn(\"Some inputs do not have OOB scores. \"\n",
      "/Users/zhiyuanchen/anaconda3/lib/python3.7/site-packages/sklearn/ensemble/_forest.py:528: RuntimeWarning: invalid value encountered in true_divide\n",
      "  predictions[k].sum(axis=1)[:, np.newaxis])\n",
      "/Users/zhiyuanchen/anaconda3/lib/python3.7/site-packages/sklearn/ensemble/_forest.py:523: UserWarning: Some inputs do not have OOB scores. This probably means too few trees were used to compute any reliable oob estimates.\n",
      "  warn(\"Some inputs do not have OOB scores. \"\n",
      "/Users/zhiyuanchen/anaconda3/lib/python3.7/site-packages/sklearn/ensemble/_forest.py:528: RuntimeWarning: invalid value encountered in true_divide\n",
      "  predictions[k].sum(axis=1)[:, np.newaxis])\n",
      "/Users/zhiyuanchen/anaconda3/lib/python3.7/site-packages/sklearn/ensemble/_forest.py:523: UserWarning: Some inputs do not have OOB scores. This probably means too few trees were used to compute any reliable oob estimates.\n",
      "  warn(\"Some inputs do not have OOB scores. \"\n",
      "/Users/zhiyuanchen/anaconda3/lib/python3.7/site-packages/sklearn/ensemble/_forest.py:528: RuntimeWarning: invalid value encountered in true_divide\n",
      "  predictions[k].sum(axis=1)[:, np.newaxis])\n",
      "/Users/zhiyuanchen/anaconda3/lib/python3.7/site-packages/sklearn/ensemble/_forest.py:523: UserWarning: Some inputs do not have OOB scores. This probably means too few trees were used to compute any reliable oob estimates.\n",
      "  warn(\"Some inputs do not have OOB scores. \"\n",
      "/Users/zhiyuanchen/anaconda3/lib/python3.7/site-packages/sklearn/ensemble/_forest.py:528: RuntimeWarning: invalid value encountered in true_divide\n",
      "  predictions[k].sum(axis=1)[:, np.newaxis])\n",
      "/Users/zhiyuanchen/anaconda3/lib/python3.7/site-packages/sklearn/ensemble/_forest.py:523: UserWarning: Some inputs do not have OOB scores. This probably means too few trees were used to compute any reliable oob estimates.\n",
      "  warn(\"Some inputs do not have OOB scores. \"\n",
      "/Users/zhiyuanchen/anaconda3/lib/python3.7/site-packages/sklearn/ensemble/_forest.py:528: RuntimeWarning: invalid value encountered in true_divide\n",
      "  predictions[k].sum(axis=1)[:, np.newaxis])\n",
      "/Users/zhiyuanchen/anaconda3/lib/python3.7/site-packages/sklearn/ensemble/_forest.py:523: UserWarning: Some inputs do not have OOB scores. This probably means too few trees were used to compute any reliable oob estimates.\n",
      "  warn(\"Some inputs do not have OOB scores. \"\n",
      "/Users/zhiyuanchen/anaconda3/lib/python3.7/site-packages/sklearn/ensemble/_forest.py:528: RuntimeWarning: invalid value encountered in true_divide\n",
      "  predictions[k].sum(axis=1)[:, np.newaxis])\n",
      "/Users/zhiyuanchen/anaconda3/lib/python3.7/site-packages/sklearn/ensemble/_forest.py:523: UserWarning: Some inputs do not have OOB scores. This probably means too few trees were used to compute any reliable oob estimates.\n",
      "  warn(\"Some inputs do not have OOB scores. \"\n",
      "/Users/zhiyuanchen/anaconda3/lib/python3.7/site-packages/sklearn/ensemble/_forest.py:528: RuntimeWarning: invalid value encountered in true_divide\n",
      "  predictions[k].sum(axis=1)[:, np.newaxis])\n",
      "/Users/zhiyuanchen/anaconda3/lib/python3.7/site-packages/sklearn/ensemble/_forest.py:523: UserWarning: Some inputs do not have OOB scores. This probably means too few trees were used to compute any reliable oob estimates.\n",
      "  warn(\"Some inputs do not have OOB scores. \"\n",
      "/Users/zhiyuanchen/anaconda3/lib/python3.7/site-packages/sklearn/ensemble/_forest.py:528: RuntimeWarning: invalid value encountered in true_divide\n",
      "  predictions[k].sum(axis=1)[:, np.newaxis])\n",
      "/Users/zhiyuanchen/anaconda3/lib/python3.7/site-packages/sklearn/ensemble/_forest.py:523: UserWarning: Some inputs do not have OOB scores. This probably means too few trees were used to compute any reliable oob estimates.\n",
      "  warn(\"Some inputs do not have OOB scores. \"\n",
      "/Users/zhiyuanchen/anaconda3/lib/python3.7/site-packages/sklearn/ensemble/_forest.py:528: RuntimeWarning: invalid value encountered in true_divide\n",
      "  predictions[k].sum(axis=1)[:, np.newaxis])\n",
      "/Users/zhiyuanchen/anaconda3/lib/python3.7/site-packages/sklearn/ensemble/_forest.py:523: UserWarning: Some inputs do not have OOB scores. This probably means too few trees were used to compute any reliable oob estimates.\n",
      "  warn(\"Some inputs do not have OOB scores. \"\n",
      "/Users/zhiyuanchen/anaconda3/lib/python3.7/site-packages/sklearn/ensemble/_forest.py:528: RuntimeWarning: invalid value encountered in true_divide\n",
      "  predictions[k].sum(axis=1)[:, np.newaxis])\n"
     ]
    },
    {
     "name": "stderr",
     "output_type": "stream",
     "text": [
      "/Users/zhiyuanchen/anaconda3/lib/python3.7/site-packages/sklearn/ensemble/_forest.py:523: UserWarning: Some inputs do not have OOB scores. This probably means too few trees were used to compute any reliable oob estimates.\n",
      "  warn(\"Some inputs do not have OOB scores. \"\n",
      "/Users/zhiyuanchen/anaconda3/lib/python3.7/site-packages/sklearn/ensemble/_forest.py:528: RuntimeWarning: invalid value encountered in true_divide\n",
      "  predictions[k].sum(axis=1)[:, np.newaxis])\n",
      "/Users/zhiyuanchen/anaconda3/lib/python3.7/site-packages/sklearn/ensemble/_forest.py:523: UserWarning: Some inputs do not have OOB scores. This probably means too few trees were used to compute any reliable oob estimates.\n",
      "  warn(\"Some inputs do not have OOB scores. \"\n",
      "/Users/zhiyuanchen/anaconda3/lib/python3.7/site-packages/sklearn/ensemble/_forest.py:528: RuntimeWarning: invalid value encountered in true_divide\n",
      "  predictions[k].sum(axis=1)[:, np.newaxis])\n",
      "/Users/zhiyuanchen/anaconda3/lib/python3.7/site-packages/sklearn/ensemble/_forest.py:523: UserWarning: Some inputs do not have OOB scores. This probably means too few trees were used to compute any reliable oob estimates.\n",
      "  warn(\"Some inputs do not have OOB scores. \"\n",
      "/Users/zhiyuanchen/anaconda3/lib/python3.7/site-packages/sklearn/ensemble/_forest.py:528: RuntimeWarning: invalid value encountered in true_divide\n",
      "  predictions[k].sum(axis=1)[:, np.newaxis])\n",
      "/Users/zhiyuanchen/anaconda3/lib/python3.7/site-packages/sklearn/ensemble/_forest.py:523: UserWarning: Some inputs do not have OOB scores. This probably means too few trees were used to compute any reliable oob estimates.\n",
      "  warn(\"Some inputs do not have OOB scores. \"\n",
      "/Users/zhiyuanchen/anaconda3/lib/python3.7/site-packages/sklearn/ensemble/_forest.py:528: RuntimeWarning: invalid value encountered in true_divide\n",
      "  predictions[k].sum(axis=1)[:, np.newaxis])\n",
      "/Users/zhiyuanchen/anaconda3/lib/python3.7/site-packages/sklearn/ensemble/_forest.py:523: UserWarning: Some inputs do not have OOB scores. This probably means too few trees were used to compute any reliable oob estimates.\n",
      "  warn(\"Some inputs do not have OOB scores. \"\n",
      "/Users/zhiyuanchen/anaconda3/lib/python3.7/site-packages/sklearn/ensemble/_forest.py:528: RuntimeWarning: invalid value encountered in true_divide\n",
      "  predictions[k].sum(axis=1)[:, np.newaxis])\n",
      "/Users/zhiyuanchen/anaconda3/lib/python3.7/site-packages/sklearn/ensemble/_forest.py:523: UserWarning: Some inputs do not have OOB scores. This probably means too few trees were used to compute any reliable oob estimates.\n",
      "  warn(\"Some inputs do not have OOB scores. \"\n",
      "/Users/zhiyuanchen/anaconda3/lib/python3.7/site-packages/sklearn/ensemble/_forest.py:528: RuntimeWarning: invalid value encountered in true_divide\n",
      "  predictions[k].sum(axis=1)[:, np.newaxis])\n",
      "/Users/zhiyuanchen/anaconda3/lib/python3.7/site-packages/sklearn/ensemble/_forest.py:523: UserWarning: Some inputs do not have OOB scores. This probably means too few trees were used to compute any reliable oob estimates.\n",
      "  warn(\"Some inputs do not have OOB scores. \"\n",
      "/Users/zhiyuanchen/anaconda3/lib/python3.7/site-packages/sklearn/ensemble/_forest.py:528: RuntimeWarning: invalid value encountered in true_divide\n",
      "  predictions[k].sum(axis=1)[:, np.newaxis])\n",
      "/Users/zhiyuanchen/anaconda3/lib/python3.7/site-packages/sklearn/ensemble/_forest.py:523: UserWarning: Some inputs do not have OOB scores. This probably means too few trees were used to compute any reliable oob estimates.\n",
      "  warn(\"Some inputs do not have OOB scores. \"\n",
      "/Users/zhiyuanchen/anaconda3/lib/python3.7/site-packages/sklearn/ensemble/_forest.py:528: RuntimeWarning: invalid value encountered in true_divide\n",
      "  predictions[k].sum(axis=1)[:, np.newaxis])\n",
      "/Users/zhiyuanchen/anaconda3/lib/python3.7/site-packages/sklearn/ensemble/_forest.py:523: UserWarning: Some inputs do not have OOB scores. This probably means too few trees were used to compute any reliable oob estimates.\n",
      "  warn(\"Some inputs do not have OOB scores. \"\n",
      "/Users/zhiyuanchen/anaconda3/lib/python3.7/site-packages/sklearn/ensemble/_forest.py:528: RuntimeWarning: invalid value encountered in true_divide\n",
      "  predictions[k].sum(axis=1)[:, np.newaxis])\n",
      "/Users/zhiyuanchen/anaconda3/lib/python3.7/site-packages/sklearn/ensemble/_forest.py:523: UserWarning: Some inputs do not have OOB scores. This probably means too few trees were used to compute any reliable oob estimates.\n",
      "  warn(\"Some inputs do not have OOB scores. \"\n",
      "/Users/zhiyuanchen/anaconda3/lib/python3.7/site-packages/sklearn/ensemble/_forest.py:528: RuntimeWarning: invalid value encountered in true_divide\n",
      "  predictions[k].sum(axis=1)[:, np.newaxis])\n",
      "/Users/zhiyuanchen/anaconda3/lib/python3.7/site-packages/sklearn/ensemble/_forest.py:523: UserWarning: Some inputs do not have OOB scores. This probably means too few trees were used to compute any reliable oob estimates.\n",
      "  warn(\"Some inputs do not have OOB scores. \"\n",
      "/Users/zhiyuanchen/anaconda3/lib/python3.7/site-packages/sklearn/ensemble/_forest.py:528: RuntimeWarning: invalid value encountered in true_divide\n",
      "  predictions[k].sum(axis=1)[:, np.newaxis])\n",
      "/Users/zhiyuanchen/anaconda3/lib/python3.7/site-packages/sklearn/ensemble/_forest.py:523: UserWarning: Some inputs do not have OOB scores. This probably means too few trees were used to compute any reliable oob estimates.\n",
      "  warn(\"Some inputs do not have OOB scores. \"\n",
      "/Users/zhiyuanchen/anaconda3/lib/python3.7/site-packages/sklearn/ensemble/_forest.py:528: RuntimeWarning: invalid value encountered in true_divide\n",
      "  predictions[k].sum(axis=1)[:, np.newaxis])\n",
      "/Users/zhiyuanchen/anaconda3/lib/python3.7/site-packages/sklearn/ensemble/_forest.py:523: UserWarning: Some inputs do not have OOB scores. This probably means too few trees were used to compute any reliable oob estimates.\n",
      "  warn(\"Some inputs do not have OOB scores. \"\n",
      "/Users/zhiyuanchen/anaconda3/lib/python3.7/site-packages/sklearn/ensemble/_forest.py:528: RuntimeWarning: invalid value encountered in true_divide\n",
      "  predictions[k].sum(axis=1)[:, np.newaxis])\n",
      "/Users/zhiyuanchen/anaconda3/lib/python3.7/site-packages/sklearn/ensemble/_forest.py:523: UserWarning: Some inputs do not have OOB scores. This probably means too few trees were used to compute any reliable oob estimates.\n",
      "  warn(\"Some inputs do not have OOB scores. \"\n",
      "/Users/zhiyuanchen/anaconda3/lib/python3.7/site-packages/sklearn/ensemble/_forest.py:528: RuntimeWarning: invalid value encountered in true_divide\n",
      "  predictions[k].sum(axis=1)[:, np.newaxis])\n",
      "/Users/zhiyuanchen/anaconda3/lib/python3.7/site-packages/sklearn/ensemble/_forest.py:523: UserWarning: Some inputs do not have OOB scores. This probably means too few trees were used to compute any reliable oob estimates.\n",
      "  warn(\"Some inputs do not have OOB scores. \"\n",
      "/Users/zhiyuanchen/anaconda3/lib/python3.7/site-packages/sklearn/ensemble/_forest.py:528: RuntimeWarning: invalid value encountered in true_divide\n",
      "  predictions[k].sum(axis=1)[:, np.newaxis])\n",
      "/Users/zhiyuanchen/anaconda3/lib/python3.7/site-packages/sklearn/ensemble/_forest.py:523: UserWarning: Some inputs do not have OOB scores. This probably means too few trees were used to compute any reliable oob estimates.\n",
      "  warn(\"Some inputs do not have OOB scores. \"\n",
      "/Users/zhiyuanchen/anaconda3/lib/python3.7/site-packages/sklearn/ensemble/_forest.py:528: RuntimeWarning: invalid value encountered in true_divide\n",
      "  predictions[k].sum(axis=1)[:, np.newaxis])\n",
      "/Users/zhiyuanchen/anaconda3/lib/python3.7/site-packages/sklearn/ensemble/_forest.py:523: UserWarning: Some inputs do not have OOB scores. This probably means too few trees were used to compute any reliable oob estimates.\n",
      "  warn(\"Some inputs do not have OOB scores. \"\n",
      "/Users/zhiyuanchen/anaconda3/lib/python3.7/site-packages/sklearn/ensemble/_forest.py:528: RuntimeWarning: invalid value encountered in true_divide\n",
      "  predictions[k].sum(axis=1)[:, np.newaxis])\n",
      "/Users/zhiyuanchen/anaconda3/lib/python3.7/site-packages/sklearn/ensemble/_forest.py:523: UserWarning: Some inputs do not have OOB scores. This probably means too few trees were used to compute any reliable oob estimates.\n",
      "  warn(\"Some inputs do not have OOB scores. \"\n",
      "/Users/zhiyuanchen/anaconda3/lib/python3.7/site-packages/sklearn/ensemble/_forest.py:528: RuntimeWarning: invalid value encountered in true_divide\n",
      "  predictions[k].sum(axis=1)[:, np.newaxis])\n",
      "/Users/zhiyuanchen/anaconda3/lib/python3.7/site-packages/sklearn/ensemble/_forest.py:523: UserWarning: Some inputs do not have OOB scores. This probably means too few trees were used to compute any reliable oob estimates.\n",
      "  warn(\"Some inputs do not have OOB scores. \"\n",
      "/Users/zhiyuanchen/anaconda3/lib/python3.7/site-packages/sklearn/ensemble/_forest.py:528: RuntimeWarning: invalid value encountered in true_divide\n",
      "  predictions[k].sum(axis=1)[:, np.newaxis])\n",
      "/Users/zhiyuanchen/anaconda3/lib/python3.7/site-packages/sklearn/ensemble/_forest.py:523: UserWarning: Some inputs do not have OOB scores. This probably means too few trees were used to compute any reliable oob estimates.\n",
      "  warn(\"Some inputs do not have OOB scores. \"\n",
      "/Users/zhiyuanchen/anaconda3/lib/python3.7/site-packages/sklearn/ensemble/_forest.py:528: RuntimeWarning: invalid value encountered in true_divide\n",
      "  predictions[k].sum(axis=1)[:, np.newaxis])\n",
      "/Users/zhiyuanchen/anaconda3/lib/python3.7/site-packages/sklearn/ensemble/_forest.py:523: UserWarning: Some inputs do not have OOB scores. This probably means too few trees were used to compute any reliable oob estimates.\n",
      "  warn(\"Some inputs do not have OOB scores. \"\n",
      "/Users/zhiyuanchen/anaconda3/lib/python3.7/site-packages/sklearn/ensemble/_forest.py:528: RuntimeWarning: invalid value encountered in true_divide\n",
      "  predictions[k].sum(axis=1)[:, np.newaxis])\n"
     ]
    },
    {
     "name": "stdout",
     "output_type": "stream",
     "text": [
      "[[0.45614035087719296, 0.42606516290726815, 0.3884711779448622, 0.3784461152882206, 0.37092731829573933, 0.3609022556390977, 0.3508771929824561, 0.3483709273182958, 0.3408521303258145, 0.32832080200501257, 0.32832080200501257, 0.3208020050125313, 0.2957393483709273, 0.3007518796992481, 0.3007518796992481, 0.31829573934837097, 0.31328320802005016, 0.3157894736842105, 0.3157894736842105, 0.30325814536340856, 0.31328320802005016, 0.3107769423558897, 0.31829573934837097, 0.30827067669172936, 0.29824561403508776, 0.3057644110275689, 0.3107769423558897, 0.30325814536340856, 0.2957393483709273, 0.3107769423558897, 0.3057644110275689, 0.2957393483709273, 0.2957393483709273, 0.28822055137844615, 0.28822055137844615, 0.2907268170426065, 0.2957393483709273, 0.2907268170426065, 0.29323308270676696, 0.28320802005012535, 0.28320802005012535, 0.2807017543859649, 0.28320802005012535, 0.28822055137844615, 0.29824561403508776, 0.28822055137844615, 0.2807017543859649, 0.2957393483709273, 0.29323308270676696, 0.29323308270676696, 0.29323308270676696, 0.2957393483709273, 0.29323308270676696, 0.2957393483709273, 0.2857142857142857, 0.2807017543859649, 0.2857142857142857, 0.2857142857142857, 0.28320802005012535, 0.2857142857142857, 0.29323308270676696, 0.29323308270676696, 0.29824561403508776, 0.2907268170426065, 0.2957393483709273, 0.29323308270676696, 0.2907268170426065, 0.2857142857142857, 0.29323308270676696, 0.29824561403508776, 0.29323308270676696, 0.2907268170426065, 0.29323308270676696, 0.29323308270676696, 0.29323308270676696, 0.29323308270676696, 0.2957393483709273, 0.29323308270676696, 0.29824561403508776, 0.3007518796992481, 0.3007518796992481, 0.2957393483709273, 0.29323308270676696, 0.29323308270676696, 0.2907268170426065, 0.29323308270676696, 0.2907268170426065, 0.28320802005012535, 0.28320802005012535, 0.28320802005012535, 0.28320802005012535, 0.2857142857142857, 0.2807017543859649, 0.2756892230576441, 0.2807017543859649, 0.28822055137844615, 0.28822055137844615, 0.2807017543859649, 0.2907268170426065], [0.443609022556391, 0.39598997493734334, 0.3583959899749374, 0.3458646616541353, 0.3308270676691729, 0.32832080200501257, 0.3533834586466166, 0.3408521303258145, 0.33834586466165417, 0.3157894736842105, 0.3107769423558897, 0.30827067669172936, 0.30827067669172936, 0.3107769423558897, 0.31328320802005016, 0.30827067669172936, 0.3057644110275689, 0.30325814536340856, 0.3057644110275689, 0.3057644110275689, 0.28320802005012535, 0.2807017543859649, 0.28822055137844615, 0.2957393483709273, 0.28822055137844615, 0.2907268170426065, 0.29824561403508776, 0.28822055137844615, 0.2756892230576441, 0.2807017543859649, 0.27819548872180455, 0.2807017543859649, 0.2807017543859649, 0.2807017543859649, 0.27819548872180455, 0.2706766917293233, 0.26817042606516295, 0.2706766917293233, 0.2706766917293233, 0.28320802005012535, 0.28822055137844615, 0.27819548872180455, 0.27318295739348375, 0.27819548872180455, 0.27318295739348375, 0.27318295739348375, 0.26817042606516295, 0.2756892230576441, 0.27318295739348375, 0.2807017543859649, 0.2756892230576441, 0.27318295739348375, 0.26817042606516295, 0.2706766917293233, 0.26817042606516295, 0.2606516290726817, 0.2606516290726817, 0.2656641604010025, 0.2606516290726817, 0.26315789473684215, 0.2656641604010025, 0.2556390977443609, 0.26315789473684215, 0.2606516290726817, 0.26315789473684215, 0.2606516290726817, 0.25814536340852134, 0.26315789473684215, 0.26817042606516295, 0.27318295739348375, 0.2706766917293233, 0.2706766917293233, 0.2756892230576441, 0.2756892230576441, 0.27318295739348375, 0.26817042606516295, 0.26315789473684215, 0.2606516290726817, 0.2556390977443609, 0.25814536340852134, 0.2606516290726817, 0.26315789473684215, 0.2606516290726817, 0.2656641604010025, 0.2606516290726817, 0.25814536340852134, 0.2656641604010025, 0.2656641604010025, 0.26315789473684215, 0.2606516290726817, 0.2606516290726817, 0.26315789473684215, 0.26315789473684215, 0.26315789473684215, 0.2656641604010025, 0.26817042606516295, 0.2706766917293233, 0.2706766917293233, 0.26817042606516295], [0.443609022556391, 0.40100250626566414, 0.3659147869674185, 0.368421052631579, 0.3609022556390977, 0.3508771929824561, 0.3634085213032582, 0.33834586466165417, 0.3258145363408521, 0.30827067669172936, 0.30325814536340856, 0.3157894736842105, 0.3007518796992481, 0.3007518796992481, 0.2957393483709273, 0.28822055137844615, 0.29323308270676696, 0.2857142857142857, 0.29323308270676696, 0.2857142857142857, 0.2857142857142857, 0.28822055137844615, 0.2957393483709273, 0.2907268170426065, 0.27819548872180455, 0.28320802005012535, 0.28822055137844615, 0.2957393483709273, 0.29323308270676696, 0.29323308270676696, 0.2857142857142857, 0.28320802005012535, 0.27819548872180455, 0.28822055137844615, 0.28320802005012535, 0.28320802005012535, 0.2756892230576441, 0.27819548872180455, 0.2706766917293233, 0.2656641604010025, 0.2706766917293233, 0.27318295739348375, 0.2706766917293233, 0.2706766917293233, 0.2756892230576441, 0.2706766917293233, 0.2656641604010025, 0.27318295739348375, 0.2756892230576441, 0.2706766917293233, 0.2706766917293233, 0.26817042606516295, 0.26817042606516295, 0.2706766917293233, 0.2706766917293233, 0.2706766917293233, 0.2756892230576441, 0.27318295739348375, 0.2756892230576441, 0.2656641604010025, 0.2606516290726817, 0.2656641604010025, 0.26817042606516295, 0.2706766917293233, 0.27318295739348375, 0.26817042606516295, 0.2706766917293233, 0.26817042606516295, 0.2656641604010025, 0.26817042606516295, 0.2656641604010025, 0.2656641604010025, 0.2706766917293233, 0.26817042606516295, 0.26315789473684215, 0.2606516290726817, 0.2556390977443609, 0.2556390977443609, 0.25814536340852134, 0.26315789473684215, 0.25814536340852134, 0.25313283208020054, 0.25814536340852134, 0.25814536340852134, 0.2606516290726817, 0.25814536340852134, 0.25814536340852134, 0.2606516290726817, 0.25814536340852134, 0.2606516290726817, 0.2556390977443609, 0.2556390977443609, 0.25814536340852134, 0.2556390977443609, 0.24812030075187974, 0.24812030075187974, 0.25313283208020054, 0.2506265664160401, 0.24561403508771928], [0.4536340852130326, 0.40601503759398494, 0.3659147869674185, 0.3458646616541353, 0.3458646616541353, 0.3358395989974937, 0.343358395989975, 0.3258145363408521, 0.3157894736842105, 0.30325814536340856, 0.29824561403508776, 0.3007518796992481, 0.3057644110275689, 0.3057644110275689, 0.29824561403508776, 0.2957393483709273, 0.30827067669172936, 0.29323308270676696, 0.2957393483709273, 0.29323308270676696, 0.27819548872180455, 0.29323308270676696, 0.2907268170426065, 0.2857142857142857, 0.2756892230576441, 0.28320802005012535, 0.29323308270676696, 0.2907268170426065, 0.2807017543859649, 0.28320802005012535, 0.28822055137844615, 0.28822055137844615, 0.2907268170426065, 0.29323308270676696, 0.28822055137844615, 0.28320802005012535, 0.27318295739348375, 0.2706766917293233, 0.2807017543859649, 0.2706766917293233, 0.27318295739348375, 0.27819548872180455, 0.2807017543859649, 0.2656641604010025, 0.27318295739348375, 0.26817042606516295, 0.25814536340852134, 0.2656641604010025, 0.26817042606516295, 0.2656641604010025, 0.26315789473684215, 0.26315789473684215, 0.2656641604010025, 0.2606516290726817, 0.25814536340852134, 0.24812030075187974, 0.24561403508771928, 0.24310776942355894, 0.24812030075187974, 0.2506265664160401, 0.25313283208020054, 0.2506265664160401, 0.2556390977443609, 0.2556390977443609, 0.2506265664160401, 0.24561403508771928, 0.24561403508771928, 0.2506265664160401, 0.24812030075187974, 0.2556390977443609, 0.2506265664160401, 0.25313283208020054, 0.25313283208020054, 0.2506265664160401, 0.24812030075187974, 0.2506265664160401, 0.2606516290726817, 0.26315789473684215, 0.26817042606516295, 0.26817042606516295, 0.2706766917293233, 0.26817042606516295, 0.2706766917293233, 0.2706766917293233, 0.26817042606516295, 0.2706766917293233, 0.26817042606516295, 0.26817042606516295, 0.26315789473684215, 0.2606516290726817, 0.2606516290726817, 0.2656641604010025, 0.26315789473684215, 0.2556390977443609, 0.2556390977443609, 0.25814536340852134, 0.26315789473684215, 0.26817042606516295, 0.2656641604010025], [0.4586466165413534, 0.41102756892230574, 0.368421052631579, 0.368421052631579, 0.3659147869674185, 0.3634085213032582, 0.3583959899749374, 0.3458646616541353, 0.33333333333333337, 0.31829573934837097, 0.3157894736842105, 0.3208020050125313, 0.30827067669172936, 0.3007518796992481, 0.30325814536340856, 0.3007518796992481, 0.29323308270676696, 0.29824561403508776, 0.3057644110275689, 0.2957393483709273, 0.29824561403508776, 0.29323308270676696, 0.30827067669172936, 0.3057644110275689, 0.2957393483709273, 0.3007518796992481, 0.3208020050125313, 0.30827067669172936, 0.3057644110275689, 0.30827067669172936, 0.3107769423558897, 0.3107769423558897, 0.30325814536340856, 0.2957393483709273, 0.2857142857142857, 0.27819548872180455, 0.28320802005012535, 0.2857142857142857, 0.2907268170426065, 0.28822055137844615, 0.2957393483709273, 0.29323308270676696, 0.2907268170426065, 0.2907268170426065, 0.2857142857142857, 0.27819548872180455, 0.2756892230576441, 0.2756892230576441, 0.28320802005012535, 0.28822055137844615, 0.2807017543859649, 0.2907268170426065, 0.28320802005012535, 0.28320802005012535, 0.28320802005012535, 0.28320802005012535, 0.2807017543859649, 0.2807017543859649, 0.2857142857142857, 0.27819548872180455, 0.27819548872180455, 0.2907268170426065, 0.2857142857142857, 0.28320802005012535, 0.2756892230576441, 0.27819548872180455, 0.27819548872180455, 0.27318295739348375, 0.2756892230576441, 0.26817042606516295, 0.26817042606516295, 0.2756892230576441, 0.2756892230576441, 0.2706766917293233, 0.2706766917293233, 0.27318295739348375, 0.2706766917293233, 0.27819548872180455, 0.2706766917293233, 0.2756892230576441, 0.27819548872180455, 0.2807017543859649, 0.27318295739348375, 0.27819548872180455, 0.2706766917293233, 0.26817042606516295, 0.27318295739348375, 0.27318295739348375, 0.26817042606516295, 0.26315789473684215, 0.26315789473684215, 0.26817042606516295, 0.2656641604010025, 0.2656641604010025, 0.25814536340852134, 0.25814536340852134, 0.25313283208020054, 0.25814536340852134, 0.2556390977443609], [0.4536340852130326, 0.39598997493734334, 0.3483709273182958, 0.3107769423558897, 0.3057644110275689, 0.31829573934837097, 0.343358395989975, 0.32330827067669177, 0.29824561403508776, 0.2857142857142857, 0.27819548872180455, 0.27819548872180455, 0.2807017543859649, 0.27819548872180455, 0.2606516290726817, 0.26817042606516295, 0.26817042606516295, 0.2606516290726817, 0.27318295739348375, 0.2807017543859649, 0.2706766917293233, 0.26817042606516295, 0.27318295739348375, 0.26315789473684215, 0.26817042606516295, 0.2706766917293233, 0.2656641604010025, 0.2606516290726817, 0.26315789473684215, 0.2656641604010025, 0.2606516290726817, 0.27318295739348375, 0.27318295739348375, 0.26315789473684215, 0.2606516290726817, 0.2656641604010025, 0.2606516290726817, 0.2606516290726817, 0.26315789473684215, 0.25814536340852134, 0.26315789473684215, 0.2656641604010025, 0.26315789473684215, 0.2656641604010025, 0.2606516290726817, 0.25814536340852134, 0.25814536340852134, 0.2656641604010025, 0.2606516290726817, 0.26315789473684215, 0.26315789473684215, 0.25814536340852134, 0.25814536340852134, 0.2606516290726817, 0.2556390977443609, 0.25313283208020054, 0.25814536340852134, 0.25313283208020054, 0.2506265664160401, 0.25814536340852134, 0.2606516290726817, 0.26315789473684215, 0.26817042606516295, 0.25814536340852134, 0.2606516290726817, 0.2606516290726817, 0.26315789473684215, 0.2606516290726817, 0.2606516290726817, 0.2606516290726817, 0.26315789473684215, 0.2606516290726817, 0.25814536340852134, 0.2556390977443609, 0.25313283208020054, 0.24812030075187974, 0.24561403508771928, 0.24812030075187974, 0.2506265664160401, 0.2506265664160401, 0.2556390977443609, 0.2556390977443609, 0.25313283208020054, 0.25313283208020054, 0.2556390977443609, 0.25814536340852134, 0.2556390977443609, 0.2606516290726817, 0.25814536340852134, 0.2656641604010025, 0.26315789473684215, 0.2606516290726817, 0.25814536340852134, 0.2606516290726817, 0.2556390977443609, 0.25814536340852134, 0.25814536340852134, 0.25814536340852134, 0.2556390977443609], [0.44611528822055135, 0.3984962406015038, 0.3609022556390977, 0.3583959899749374, 0.3508771929824561, 0.3358395989974937, 0.3533834586466166, 0.32832080200501257, 0.29824561403508776, 0.2857142857142857, 0.2756892230576441, 0.26817042606516295, 0.2706766917293233, 0.26817042606516295, 0.2807017543859649, 0.2756892230576441, 0.26315789473684215, 0.2756892230576441, 0.2756892230576441, 0.2756892230576441, 0.26315789473684215, 0.27318295739348375, 0.26315789473684215, 0.26315789473684215, 0.24812030075187974, 0.27318295739348375, 0.2656641604010025, 0.2606516290726817, 0.2656641604010025, 0.2556390977443609, 0.26315789473684215, 0.2606516290726817, 0.26315789473684215, 0.2706766917293233, 0.2606516290726817, 0.25814536340852134, 0.2556390977443609, 0.26315789473684215, 0.25814536340852134, 0.25313283208020054, 0.24812030075187974, 0.24812030075187974, 0.2556390977443609, 0.2606516290726817, 0.2506265664160401, 0.25814536340852134, 0.2556390977443609, 0.2556390977443609, 0.25814536340852134, 0.2656641604010025, 0.26817042606516295, 0.26315789473684215, 0.26315789473684215, 0.26817042606516295, 0.26315789473684215, 0.25814536340852134, 0.25814536340852134, 0.25814536340852134, 0.26817042606516295, 0.2656641604010025, 0.2656641604010025, 0.25814536340852134, 0.26315789473684215, 0.2556390977443609, 0.2606516290726817, 0.2656641604010025, 0.26315789473684215, 0.26315789473684215, 0.2656641604010025, 0.2656641604010025, 0.2606516290726817, 0.2556390977443609, 0.2656641604010025, 0.25814536340852134, 0.25313283208020054, 0.2506265664160401, 0.24812030075187974, 0.25313283208020054, 0.25313283208020054, 0.25313283208020054, 0.2556390977443609, 0.2556390977443609, 0.2556390977443609, 0.2556390977443609, 0.25313283208020054, 0.24812030075187974, 0.24812030075187974, 0.2506265664160401, 0.25313283208020054, 0.25313283208020054, 0.25313283208020054, 0.2556390977443609, 0.25313283208020054, 0.25313283208020054, 0.2506265664160401, 0.24812030075187974, 0.24812030075187974, 0.24561403508771928, 0.24060150375939848], [0.468671679197995, 0.4135338345864662, 0.37092731829573933, 0.3408521303258145, 0.33834586466165417, 0.32832080200501257, 0.3208020050125313, 0.33333333333333337, 0.3208020050125313, 0.3057644110275689, 0.3007518796992481, 0.3208020050125313, 0.2857142857142857, 0.2957393483709273, 0.2857142857142857, 0.2907268170426065, 0.28822055137844615, 0.2857142857142857, 0.2807017543859649, 0.28320802005012535, 0.2656641604010025, 0.26817042606516295, 0.27819548872180455, 0.2807017543859649, 0.2807017543859649, 0.27819548872180455, 0.27819548872180455, 0.26817042606516295, 0.26315789473684215, 0.26315789473684215, 0.2606516290726817, 0.26817042606516295, 0.2606516290726817, 0.2706766917293233, 0.26315789473684215, 0.2606516290726817, 0.2606516290726817, 0.2556390977443609, 0.2506265664160401, 0.24561403508771928, 0.24310776942355894, 0.25313283208020054, 0.24812030075187974, 0.2506265664160401, 0.2506265664160401, 0.25814536340852134, 0.2606516290726817, 0.25313283208020054, 0.25313283208020054, 0.24812030075187974, 0.25313283208020054, 0.25814536340852134, 0.25313283208020054, 0.25313283208020054, 0.25814536340852134, 0.25814536340852134, 0.25814536340852134, 0.25313283208020054, 0.2606516290726817, 0.25814536340852134, 0.2606516290726817, 0.25814536340852134, 0.2556390977443609, 0.2556390977443609, 0.2506265664160401, 0.25313283208020054, 0.25313283208020054, 0.2506265664160401, 0.25313283208020054, 0.25313283208020054, 0.24812030075187974, 0.24812030075187974, 0.24561403508771928, 0.24310776942355894, 0.24310776942355894, 0.24060150375939848, 0.23809523809523814, 0.24310776942355894, 0.24060150375939848, 0.23809523809523814, 0.24060150375939848, 0.24060150375939848, 0.24060150375939848, 0.23809523809523814, 0.24310776942355894, 0.24310776942355894, 0.24060150375939848, 0.24060150375939848, 0.23057644110275688, 0.22807017543859653, 0.22807017543859653, 0.23057644110275688, 0.23558897243107768, 0.23558897243107768, 0.23558897243107768, 0.23809523809523814, 0.24060150375939848, 0.23809523809523814, 0.23809523809523814]]\n"
     ]
    },
    {
     "data": {
      "image/png": "[encoded data removed]",
      "text/plain": [
       "<Figure size 576x432 with 1 Axes>"
      ]
     },
     "metadata": {
      "needs_background": "light"
     },
     "output_type": "display_data"
    }
   ],
   "source": [
    "from sklearn.model_selection import cross_val_predict\n",
    "from sklearn.metrics import mean_squared_error\n",
    "from sklearn.ensemble import RandomForestClassifier\n",
    "import matplotlib.pyplot as plt\n",
    "\n",
    "tree_num = np.arange(1, 100) #best tree:15\n",
    "max_feature_num = np.arange(1,9) #best feature num:7\n",
    "\n",
    "rmse = [[], [], [], [], [],[],[],[]]\n",
    "oob_error = [[], [], [], [], [],[],[],[]]\n",
    "\n",
    "\n",
    "for i in tree_num:\n",
    "    for j in max_feature_num:\n",
    "        rfr = RandomForestClassifier(n_estimators = i, max_features = j, max_depth = 20, bootstrap = True, oob_score = True, random_state = 42)\n",
    "        rfr.fit(train, target)\n",
    "      #  rfr_pred = cross_val_predict(rfr, X1, X_test, cv = 10)\n",
    "        oob_error[j-1].append(1-rfr.oob_score_)\n",
    "print (oob_error)\n",
    "\n",
    "\n",
    "f = plt.figure() \n",
    "f.set_figwidth(8) \n",
    "f.set_figheight(6)\n",
    "for i in range(8):\n",
    "    plt.plot(oob_error[i], label = 'max_feature_num = % i' % max_feature_num[i])\n",
    "plt.title('oob_error against # trees')\n",
    "plt.xlabel('number of trees')\n",
    "plt.ylabel('oob_error')\n",
    "plt.ylim([0,1])\n",
    "plt.legend(loc = 'best')\n",
    "plt.show()"
   ]
  },
  {
   "cell_type": "code",
   "execution_count": 158,
   "metadata": {},
   "outputs": [
    {
     "name": "stderr",
     "output_type": "stream",
     "text": [
      "No handles with labels found to put in legend.\n"
     ]
    },
    {
     "data": {
      "image/png": "[encoded data removed]",
      "text/plain": [
       "<Figure size 576x432 with 1 Axes>"
      ]
     },
     "metadata": {
      "needs_background": "light"
     },
     "output_type": "display_data"
    }
   ],
   "source": [
    "max_depth_num=np.arange(1,21)\n",
    "\n",
    "rmse = np.zeros(20)\n",
    "oob_error = np.zeros(20)\n",
    "\n",
    "for i in max_depth_num:\n",
    "    rf_d = RandomForestClassifier(n_estimators = 15, max_features = 7, max_depth = i, bootstrap = True, oob_score = True, random_state = 42)\n",
    "    rf_d.fit(train, target)\n",
    "    oob_error[i-1]=1-rf_d.oob_score_\n",
    "\n",
    "f = plt.figure() \n",
    "f.set_figwidth(8) \n",
    "f.set_figheight(6)\n",
    "plt.plot(max_depth_num,oob_error)\n",
    "plt.title('oob_error against max depth')\n",
    "plt.xlabel('depth')\n",
    "plt.ylabel('oob_error')\n",
    "plt.legend(loc = 'best')\n",
    "plt.show()"
   ]
  },
  {
   "cell_type": "code",
   "execution_count": 123,
   "metadata": {},
   "outputs": [
    {
     "name": "stdout",
     "output_type": "stream",
     "text": [
      "Accuracy:    0.830000\n",
      "Precision:   0.793103\n",
      "Recall:      0.901961\n",
      "F1 Score:    0.844037\n",
      "Confusion Matrix: \n",
      " [[37 12]\n",
      " [ 5 46]]\n"
     ]
    },
    {
     "data": {
      "image/png": "[encoded data removed]",
      "text/plain": [
       "<Figure size 432x288 with 2 Axes>"
      ]
     },
     "metadata": {
      "needs_background": "light"
     },
     "output_type": "display_data"
    },
    {
     "name": "stdout",
     "output_type": "stream",
     "text": [
      "Logistic Model Performance Results:\n",
      "\n"
     ]
    },
    {
     "data": {
      "text/plain": [
       "Text(0, 0.5, 'TPR')"
      ]
     },
     "execution_count": 123,
     "metadata": {},
     "output_type": "execute_result"
    },
    {
     "data": {
      "image/png": "[encoded data removed]",
      "text/plain": [
       "<Figure size 432x288 with 1 Axes>"
      ]
     },
     "metadata": {
      "needs_background": "light"
     },
     "output_type": "display_data"
    }
   ],
   "source": [
    "rf=RandomForestClassifier(n_estimators = 15, max_features = 7, max_depth = 3)\n",
    "\n",
    "train_data_category = target\n",
    "test_data_category = target_test\n",
    "\n",
    "rf.fit(train, target)\n",
    "predicted = rf.predict(test)\n",
    "score = rf.predict_proba(test)[:,1]\n",
    "\n",
    "print(\"%-12s %f\" % ('Accuracy:', metrics.accuracy_score(test_data_category, predicted)))\n",
    "print(\"%-12s %f\" % ('Precision:', metrics.precision_score(test_data_category, predicted, labels=None, pos_label=1, average='binary', sample_weight=None)))\n",
    "print(\"%-12s %f\" % ('Recall:', metrics.recall_score(test_data_category, predicted, labels=None, pos_label=1, average='binary', sample_weight=None)))\n",
    "print(\"%-12s %f\" % ('F1 Score:', metrics.f1_score(test_data_category, predicted, labels=None, pos_label=1, average='binary', sample_weight=None)))\n",
    "print(\"Confusion Matrix: \\n\", metrics.confusion_matrix(test_data_category, predicted))\n",
    "draw_confusion_matrix(target_test, predicted, ['stroke1', 'stroke0'])\n",
    "fpr_log_reg, tpr_log_reg, thresholds = metrics.roc_curve(test_data_category, score)\n",
    "\n",
    "print(\"Logistic Model Performance Results:\\n\")\n",
    "\n",
    "pyplot.figure(1)\n",
    "pyplot.plot(fpr_log_reg, tpr_log_reg, color='orange', lw=1)\n",
    "pyplot.title(\"ROC curve with Logistic Regression\")\n",
    "pyplot.xlabel('FPR')\n",
    "pyplot.ylabel('TPR')"
   ]
  },
  {
   "cell_type": "markdown",
   "metadata": {},
   "source": [
    "## Part 6. Neural Net Classifier"
   ]
  },
  {
   "cell_type": "code",
   "execution_count": 142,
   "metadata": {},
   "outputs": [],
   "source": [
    "from sklearn.neural_network import MLPClassifier\n",
    "parameters = {'solver': ['lbfgs'], 'alpha': 10.0 ** -np.arange(1, 7), 'hidden_layer_sizes':np.arange(1, 10)}\n",
    "clf_grid = GridSearchCV(MLPClassifier(), parameters, n_jobs=-1)"
   ]
  },
  {
   "cell_type": "code",
   "execution_count": 143,
   "metadata": {},
   "outputs": [
    {
     "name": "stdout",
     "output_type": "stream",
     "text": [
      "Best score: 0.7570\n",
      "Using the following parameters:\n",
      "{'alpha': 0.0001, 'hidden_layer_sizes': 1, 'solver': 'lbfgs'}\n"
     ]
    }
   ],
   "source": [
    "clf_grid.fit(train,target)\n",
    "\n",
    "print(\"Best score: %0.4f\" % clf_grid.best_score_)\n",
    "print(\"Using the following parameters:\")\n",
    "print(clf_grid.best_params_)"
   ]
  },
  {
   "cell_type": "code",
   "execution_count": 146,
   "metadata": {},
   "outputs": [
    {
     "name": "stdout",
     "output_type": "stream",
     "text": [
      "Accuracy:    0.790000\n",
      "Precision:   0.758621\n",
      "Recall:      0.862745\n",
      "F1 Score:    0.807339\n",
      "Confusion Matrix: \n",
      " [[35 14]\n",
      " [ 7 44]]\n"
     ]
    },
    {
     "data": {
      "image/png": "[encoded data removed]",
      "text/plain": [
       "<Figure size 432x288 with 2 Axes>"
      ]
     },
     "metadata": {
      "needs_background": "light"
     },
     "output_type": "display_data"
    },
    {
     "name": "stdout",
     "output_type": "stream",
     "text": [
      "Logistic Model Performance Results:\n",
      "\n"
     ]
    },
    {
     "data": {
      "text/plain": [
       "Text(0, 0.5, 'TPR')"
      ]
     },
     "execution_count": 146,
     "metadata": {},
     "output_type": "execute_result"
    },
    {
     "data": {
      "image/png": "[encoded data removed]",
      "text/plain": [
       "<Figure size 432x288 with 1 Axes>"
      ]
     },
     "metadata": {
      "needs_background": "light"
     },
     "output_type": "display_data"
    }
   ],
   "source": [
    "nn=MLPClassifier(alpha= 0.0001, hidden_layer_sizes= 1, solver='lbfgs')\n",
    "\n",
    "train_data_category = target\n",
    "test_data_category = target_test\n",
    "\n",
    "nn.fit(train, target)\n",
    "predicted = nn.predict(test)\n",
    "score = nn.predict_proba(test)[:,1]\n",
    "\n",
    "print(\"%-12s %f\" % ('Accuracy:', metrics.accuracy_score(test_data_category, predicted)))\n",
    "print(\"%-12s %f\" % ('Precision:', metrics.precision_score(test_data_category, predicted, labels=None, pos_label=1, average='binary', sample_weight=None)))\n",
    "print(\"%-12s %f\" % ('Recall:', metrics.recall_score(test_data_category, predicted, labels=None, pos_label=1, average='binary', sample_weight=None)))\n",
    "print(\"%-12s %f\" % ('F1 Score:', metrics.f1_score(test_data_category, predicted, labels=None, pos_label=1, average='binary', sample_weight=None)))\n",
    "print(\"Confusion Matrix: \\n\", metrics.confusion_matrix(test_data_category, predicted))\n",
    "draw_confusion_matrix(target_test, predicted, ['stroke1', 'stroke0'])\n",
    "fpr_log_reg, tpr_log_reg, thresholds = metrics.roc_curve(test_data_category, score)\n",
    "\n",
    "print(\"Logistic Model Performance Results:\\n\")\n",
    "\n",
    "pyplot.figure(1)\n",
    "pyplot.plot(fpr_log_reg, tpr_log_reg, color='orange', lw=1)\n",
    "pyplot.title(\"ROC curve with Logistic Regression\")\n",
    "pyplot.xlabel('FPR')\n",
    "pyplot.ylabel('TPR')"
   ]
  },
  {
   "cell_type": "markdown",
   "metadata": {},
   "source": [
    "## Part 7. Cross Validation"
   ]
  },
  {
   "cell_type": "code",
   "execution_count": 141,
   "metadata": {},
   "outputs": [
    {
     "name": "stdout",
     "output_type": "stream",
     "text": [
      "For an Random Forest our mean accuracy across folds is: 75.93%\n"
     ]
    }
   ],
   "source": [
    "from sklearn.model_selection import KFold\n",
    "from sklearn import model_selection\n",
    "\n",
    "kfold = model_selection.KFold(n_splits=10, random_state=42, shuffle=True) \n",
    "\n",
    "model_kfold = rf=RandomForestClassifier(n_estimators = 15, max_features = 7, max_depth = 3)\n",
    "\n",
    "results_kfold = model_selection.cross_val_score(model_kfold, train, target, cv=kfold)\n",
    "\n",
    "print(\"For an Random Forest our mean accuracy across folds is: %.2f%%\" % (results_kfold.mean()*100.0)) "
   ]
  },
  {
   "cell_type": "code",
   "execution_count": 147,
   "metadata": {},
   "outputs": [
    {
     "name": "stdout",
     "output_type": "stream",
     "text": [
      "For an Random Forest our mean accuracy across folds is: 75.21%\n"
     ]
    },
    {
     "name": "stderr",
     "output_type": "stream",
     "text": [
      "/Users/zhiyuanchen/anaconda3/lib/python3.7/site-packages/sklearn/neural_network/_multilayer_perceptron.py:470: ConvergenceWarning: lbfgs failed to converge (status=1):\n",
      "STOP: TOTAL NO. of ITERATIONS REACHED LIMIT.\n",
      "\n",
      "Increase the number of iterations (max_iter) or scale the data as shown in:\n",
      "    https://scikit-learn.org/stable/modules/preprocessing.html\n",
      "  self.n_iter_ = _check_optimize_result(\"lbfgs\", opt_res, self.max_iter)\n"
     ]
    }
   ],
   "source": [
    "kfold = model_selection.KFold(n_splits=10, random_state=42, shuffle=True) \n",
    "\n",
    "model_kfold = MLPClassifier(alpha= 0.0001, hidden_layer_sizes= 1, solver='lbfgs')\n",
    "\n",
    "results_kfold = model_selection.cross_val_score(model_kfold, train, target, cv=kfold)\n",
    "\n",
    "print(\"For an Random Forest our mean accuracy across folds is: %.2f%%\" % (results_kfold.mean()*100.0)) "
   ]
  },
  {
   "cell_type": "markdown",
   "metadata": {},
   "source": [
    "## Part 8. Custom Model (SVM)"
   ]
  },
  {
   "cell_type": "code",
   "execution_count": 149,
   "metadata": {},
   "outputs": [
    {
     "name": "stdout",
     "output_type": "stream",
     "text": [
      "Accuracy:    0.770000\n",
      "Precision:   0.780000\n",
      "Recall:      0.764706\n",
      "F1 Score:    0.772277\n",
      "Confusion Matrix: \n",
      " [[38 11]\n",
      " [12 39]]\n"
     ]
    },
    {
     "data": {
      "image/png": "[encoded data removed]",
      "text/plain": [
       "<Figure size 432x288 with 2 Axes>"
      ]
     },
     "metadata": {
      "needs_background": "light"
     },
     "output_type": "display_data"
    },
    {
     "name": "stdout",
     "output_type": "stream",
     "text": [
      "Logistic Model Performance Results:\n",
      "\n"
     ]
    },
    {
     "data": {
      "text/plain": [
       "Text(0, 0.5, 'TPR')"
      ]
     },
     "execution_count": 149,
     "metadata": {},
     "output_type": "execute_result"
    },
    {
     "data": {
      "image/png": "[encoded data removed]",
      "text/plain": [
       "<Figure size 432x288 with 1 Axes>"
      ]
     },
     "metadata": {
      "needs_background": "light"
     },
     "output_type": "display_data"
    }
   ],
   "source": [
    "from sklearn.svm import LinearSVC\n",
    "svm = LinearSVC(C=0.0001,random_state=42,max_iter=10000)\n",
    "\n",
    "train_data_category = target\n",
    "test_data_category = target_test\n",
    "\n",
    "svm.fit(train, target)\n",
    "predicted = svm.predict(test)\n",
    "#score = svm.predict_proba(test)[:,1]\n",
    "\n",
    "print(\"%-12s %f\" % ('Accuracy:', metrics.accuracy_score(test_data_category, predicted)))\n",
    "print(\"%-12s %f\" % ('Precision:', metrics.precision_score(test_data_category, predicted, labels=None, pos_label=1, average='binary', sample_weight=None)))\n",
    "print(\"%-12s %f\" % ('Recall:', metrics.recall_score(test_data_category, predicted, labels=None, pos_label=1, average='binary', sample_weight=None)))\n",
    "print(\"%-12s %f\" % ('F1 Score:', metrics.f1_score(test_data_category, predicted, labels=None, pos_label=1, average='binary', sample_weight=None)))\n",
    "print(\"Confusion Matrix: \\n\", metrics.confusion_matrix(test_data_category, predicted))\n",
    "draw_confusion_matrix(target_test, predicted, ['stroke1', 'stroke0'])\n",
    "#fpr_log_reg, tpr_log_reg, thresholds = metrics.roc_curve(test_data_category, score)\n",
    "\n",
    "print(\"Logistic Model Performance Results:\\n\")\n",
    "\n",
    "pyplot.figure(1)\n",
    "pyplot.plot(fpr_log_reg, tpr_log_reg, color='orange', lw=1)\n",
    "pyplot.title(\"ROC curve with Logistic Regression\")\n",
    "pyplot.xlabel('FPR')\n",
    "pyplot.ylabel('TPR')"
   ]
  },
  {
   "cell_type": "code",
   "execution_count": 156,
   "metadata": {},
   "outputs": [
    {
     "name": "stdout",
     "output_type": "stream",
     "text": [
      "Accuracy:    0.820000\n",
      "Precision:   0.789474\n",
      "Recall:      0.882353\n",
      "F1 Score:    0.833333\n",
      "Confusion Matrix: \n",
      " [[37 12]\n",
      " [ 6 45]]\n"
     ]
    },
    {
     "data": {
      "image/png": "[encoded data removed]",
      "text/plain": [
       "<Figure size 432x288 with 2 Axes>"
      ]
     },
     "metadata": {
      "needs_background": "light"
     },
     "output_type": "display_data"
    },
    {
     "name": "stdout",
     "output_type": "stream",
     "text": [
      "SVM Model Performance Results:\n",
      "\n"
     ]
    },
    {
     "data": {
      "image/png": "[encoded data removed]",
      "text/plain": [
       "<Figure size 432x288 with 1 Axes>"
      ]
     },
     "metadata": {
      "needs_background": "light"
     },
     "output_type": "display_data"
    }
   ],
   "source": [
    "svm = SVC(probability=True)\n",
    "svm.fit(train, target)\n",
    "testing_result = svm.predict(test)\n",
    "predicted = svm.predict(test)\n",
    "score = svm.predict_proba(test)\n",
    "\n",
    "print(\"%-12s %f\" % ('Accuracy:', metrics.accuracy_score(test_data_category, predicted)))\n",
    "print(\"%-12s %f\" % ('Precision:', metrics.precision_score(test_data_category, predicted, labels=None, pos_label=1, average='binary', sample_weight=None)))\n",
    "print(\"%-12s %f\" % ('Recall:', metrics.recall_score(test_data_category, predicted, labels=None, pos_label=1, average='binary', sample_weight=None)))\n",
    "print(\"%-12s %f\" % ('F1 Score:', metrics.f1_score(test_data_category, predicted, labels=None, pos_label=1, average='binary', sample_weight=None)))\n",
    "print(\"Confusion Matrix: \\n\", metrics.confusion_matrix(test_data_category, predicted))\n",
    "draw_confusion_matrix(target_test, predicted, ['stroke1', 'stroke0'])\n",
    "\n",
    "print(\"SVM Model Performance Results:\\n\")\n",
    "\n",
    "fpr_svm, tpr_svm, thresholds = metrics.roc_curve(target_test, score[:, 1], pos_label=1)\n",
    "\n",
    "pyplot.figure(1)\n",
    "pyplot.plot(fpr_svm, tpr_svm, color='blue', lw=1)\n",
    "pyplot.title(\"ROC curve with SVM\")\n",
    "pyplot.xlabel('FPR')\n",
    "pyplot.ylabel('TPR')\n",
    "pyplot.show()"
   ]
  },
  {
   "cell_type": "code",
   "execution_count": null,
   "metadata": {},
   "outputs": [],
   "source": []
  }
 ],
 "metadata": {
  "kernelspec": {
   "display_name": "Python 3",
   "language": "python",
   "name": "python3"
  },
  "language_info": {
   "codemirror_mode": {
    "name": "ipython",
    "version": 3
   },
   "file_extension": ".py",
   "mimetype": "text/x-python",
   "name": "python",
   "nbconvert_exporter": "python",
   "pygments_lexer": "ipython3",
   "version": "3.7.6"
  }
 },
 "nbformat": 4,
 "nbformat_minor": 2
}
